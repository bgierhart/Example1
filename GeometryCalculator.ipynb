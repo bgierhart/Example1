{
 "cells": [
  {
   "cell_type": "markdown",
   "id": "1432b202-a6f1-4332-a555-e3fc1d0cffcc",
   "metadata": {},
   "source": [
    "# Geometry Calculator\n",
    "---\n",
    "**Author:** Ben Gierhart  \n",
    "**Version:** 1.0  \n",
    "**Semester:** Spring 2024 \n",
    "\n",
    "This *notebook* contains my geometry calculator"
   ]
  },
  {
   "cell_type": "markdown",
   "id": "ece37a86-9105-459c-93de-da36e5c74d7b",
   "metadata": {},
   "source": [
    "### Calculate area of square"
   ]
  },
  {
   "cell_type": "code",
   "execution_count": 10,
   "id": "b056511c-6919-4212-8125-8ac90f6128e8",
   "metadata": {},
   "outputs": [],
   "source": [
    "prompt = \"Enter the length of a side\""
   ]
  },
  {
   "cell_type": "code",
   "execution_count": 8,
   "id": "775bd7c3-2c35-4481-a2b6-057d4b7790ed",
   "metadata": {},
   "outputs": [],
   "source": [
    "test = \"\"\"\n",
    "This is a multiline\n",
    "string of data\n",
    "that I can print to the screen.\n",
    "\n",
    "\"\"\""
   ]
  },
  {
   "cell_type": "code",
   "execution_count": 9,
   "id": "fe7de1ae-a25c-4497-9e5e-eb06d634dd23",
   "metadata": {},
   "outputs": [
    {
     "name": "stdout",
     "output_type": "stream",
     "text": [
      "\n",
      "This is a multiline\n",
      "string of data\n",
      "that I can print to the screen.\n",
      "\n",
      "\n"
     ]
    }
   ],
   "source": [
    "print(test)"
   ]
  },
  {
   "cell_type": "code",
   "execution_count": 12,
   "id": "cfa83123-1f27-493d-8f3d-0b0206958884",
   "metadata": {},
   "outputs": [
    {
     "name": "stdin",
     "output_type": "stream",
     "text": [
      "Enter the length of a side 25\n"
     ]
    }
   ],
   "source": [
    "side = input(prompt)"
   ]
  },
  {
   "cell_type": "code",
   "execution_count": 13,
   "id": "28a46785-4ed9-4804-b215-065603f4e929",
   "metadata": {},
   "outputs": [
    {
     "name": "stdout",
     "output_type": "stream",
     "text": [
      "25\n"
     ]
    }
   ],
   "source": [
    "print(side)"
   ]
  },
  {
   "cell_type": "code",
   "execution_count": 18,
   "id": "a2cd0a88-6665-49a1-a0ec-58dca6e39f2e",
   "metadata": {},
   "outputs": [],
   "source": [
    "area = int(side) * int(side)"
   ]
  },
  {
   "cell_type": "code",
   "execution_count": 19,
   "id": "8b8d160d-c9cd-4f0e-88c9-cb80644c838f",
   "metadata": {},
   "outputs": [
    {
     "name": "stdout",
     "output_type": "stream",
     "text": [
      "625\n"
     ]
    }
   ],
   "source": [
    "print(area)"
   ]
  },
  {
   "cell_type": "code",
   "execution_count": 22,
   "id": "8131bc4e-0597-47b0-82ea-74d8a91420a9",
   "metadata": {},
   "outputs": [
    {
     "data": {
      "text/plain": [
       "int"
      ]
     },
     "execution_count": 22,
     "metadata": {},
     "output_type": "execute_result"
    }
   ],
   "source": [
    "type(area)"
   ]
  },
  {
   "cell_type": "markdown",
   "id": "4a18e2c6-53c8-4803-87a1-c2768a64fff4",
   "metadata": {},
   "source": [
    "### Area of a triangle"
   ]
  },
  {
   "cell_type": "code",
   "execution_count": 58,
   "id": "6ad25830-757a-45cc-88ba-5a0b6c372b3d",
   "metadata": {},
   "outputs": [
    {
     "name": "stdin",
     "output_type": "stream",
     "text": [
      "Enter the length of the base 21.3453\n"
     ]
    }
   ],
   "source": [
    "base = input(\"Enter the length of the base\")"
   ]
  },
  {
   "cell_type": "code",
   "execution_count": 50,
   "id": "6463f83e-e4b1-4c89-aaee-f23bc12e84d2",
   "metadata": {},
   "outputs": [
    {
     "name": "stdin",
     "output_type": "stream",
     "text": [
      "Enter the length of the height 31.6456\n"
     ]
    }
   ],
   "source": [
    "height = input(\"Enter the length of the height\")"
   ]
  },
  {
   "cell_type": "code",
   "execution_count": 51,
   "id": "fcc7487d-3027-4223-99f2-955181da495e",
   "metadata": {},
   "outputs": [],
   "source": [
    "Tarea = 0.5 * float(base) * float(height)"
   ]
  },
  {
   "cell_type": "code",
   "execution_count": 56,
   "id": "62d22796-6d58-43b0-8f95-01584da27aec",
   "metadata": {},
   "outputs": [
    {
     "name": "stdout",
     "output_type": "stream",
     "text": [
      "337.74\n"
     ]
    }
   ],
   "source": [
    "print(f'{Tarea:.2f}')"
   ]
  },
  {
   "cell_type": "code",
   "execution_count": 47,
   "id": "088a9570-3c82-42e2-85fc-09dbcd5671d2",
   "metadata": {},
   "outputs": [
    {
     "data": {
      "text/plain": [
       "float"
      ]
     },
     "execution_count": 47,
     "metadata": {},
     "output_type": "execute_result"
    }
   ],
   "source": [
    "type(Tarea)"
   ]
  },
  {
   "cell_type": "code",
   "execution_count": 60,
   "id": "12b75714-edf8-4e43-b9da-9ef648cbf1b5",
   "metadata": {},
   "outputs": [
    {
     "name": "stdout",
     "output_type": "stream",
     "text": [
      "The area of a triangle with base 21.3453 and height 31.6456 is 337.7424.\n"
     ]
    }
   ],
   "source": [
    "print(f'The area of a triangle with base {base} and height {height} is {Tarea:.4f}.')"
   ]
  },
  {
   "cell_type": "code",
   "execution_count": null,
   "id": "869cc80a-65a6-4f18-811c-d14173b5cc9f",
   "metadata": {},
   "outputs": [],
   "source": []
  }
 ],
 "metadata": {
  "kernelspec": {
   "display_name": "Python 3 (ipykernel)",
   "language": "python",
   "name": "python3"
  },
  "language_info": {
   "codemirror_mode": {
    "name": "ipython",
    "version": 3
   },
   "file_extension": ".py",
   "mimetype": "text/x-python",
   "name": "python",
   "nbconvert_exporter": "python",
   "pygments_lexer": "ipython3",
   "version": "3.11.7"
  }
 },
 "nbformat": 4,
 "nbformat_minor": 5
}
