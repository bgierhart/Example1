{
 "cells": [
  {
   "cell_type": "code",
   "execution_count": 9,
   "id": "865317d0-73f8-4ab4-9909-35de1189424d",
   "metadata": {},
   "outputs": [
    {
     "name": "stdout",
     "output_type": "stream",
     "text": [
      "Hello World!\n",
      "Rob\n"
     ]
    }
   ],
   "source": [
    "print(\"Hello World!\")\n",
    "name = \"Rob\"\n",
    "print(name)"
   ]
  },
  {
   "cell_type": "code",
   "execution_count": 12,
   "id": "282cf861-0428-48f8-b4a1-20283b5aedc0",
   "metadata": {},
   "outputs": [
    {
     "name": "stdout",
     "output_type": "stream",
     "text": [
      "35.25\n"
     ]
    }
   ],
   "source": [
    "print(age)"
   ]
  },
  {
   "cell_type": "code",
   "execution_count": 11,
   "id": "be159a92-8e42-4c2a-b572-24ad379f0c70",
   "metadata": {},
   "outputs": [],
   "source": [
    "age = 35.25"
   ]
  },
  {
   "cell_type": "code",
   "execution_count": 13,
   "id": "d94eb961-5c73-4b83-a1a5-3990450aea44",
   "metadata": {},
   "outputs": [],
   "source": [
    "num1 = 10;\n",
    "num2 = 12;\n",
    "answer = num1 + num2"
   ]
  },
  {
   "cell_type": "code",
   "execution_count": 14,
   "id": "cb15400f-4c6c-409a-af1c-4d2dcb41fefc",
   "metadata": {},
   "outputs": [
    {
     "name": "stdout",
     "output_type": "stream",
     "text": [
      "22\n"
     ]
    }
   ],
   "source": [
    "print(answer)"
   ]
  },
  {
   "cell_type": "code",
   "execution_count": null,
   "id": "5624fa54-bf1f-4146-88fc-16b70bf64071",
   "metadata": {},
   "outputs": [],
   "source": []
  }
 ],
 "metadata": {
  "kernelspec": {
   "display_name": "Python 3 (ipykernel)",
   "language": "python",
   "name": "python3"
  },
  "language_info": {
   "codemirror_mode": {
    "name": "ipython",
    "version": 3
   },
   "file_extension": ".py",
   "mimetype": "text/x-python",
   "name": "python",
   "nbconvert_exporter": "python",
   "pygments_lexer": "ipython3",
   "version": "3.11.7"
  }
 },
 "nbformat": 4,
 "nbformat_minor": 5
}
