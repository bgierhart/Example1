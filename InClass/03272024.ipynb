{
 "cells": [
  {
   "cell_type": "markdown",
   "id": "1edcbd93-7cf3-4e6e-a5d4-dc09948955da",
   "metadata": {},
   "source": [
    "### Arrays Pt. 2"
   ]
  },
  {
   "cell_type": "code",
   "execution_count": 27,
   "id": "644e84b8-f663-4664-b0c8-d138a419706d",
   "metadata": {},
   "outputs": [],
   "source": [
    "import numpy as np"
   ]
  },
  {
   "cell_type": "code",
   "execution_count": 28,
   "id": "492d3f5c-c163-4707-98fb-07cf6838e528",
   "metadata": {},
   "outputs": [],
   "source": [
    "A = np.random.randint(1,11, size=(1,20))"
   ]
  },
  {
   "cell_type": "code",
   "execution_count": 29,
   "id": "650a25b6-b4e5-4fac-b536-1d7f021b22fe",
   "metadata": {},
   "outputs": [
    {
     "data": {
      "text/plain": [
       "20"
      ]
     },
     "execution_count": 29,
     "metadata": {},
     "output_type": "execute_result"
    }
   ],
   "source": [
    "A.size"
   ]
  },
  {
   "cell_type": "code",
   "execution_count": 30,
   "id": "08d26ff7-cae4-42ae-93ef-5479484fcfdc",
   "metadata": {},
   "outputs": [
    {
     "name": "stdout",
     "output_type": "stream",
     "text": [
      "(1, 20)\n",
      "20\n",
      "2\n"
     ]
    }
   ],
   "source": [
    "print(A.shape)\n",
    "print(A.size)\n",
    "print(A.ndim)"
   ]
  },
  {
   "cell_type": "code",
   "execution_count": 31,
   "id": "91cdac4d-3365-4d79-9956-dd0b7c09d2b5",
   "metadata": {},
   "outputs": [],
   "source": [
    "T = A.copy()"
   ]
  },
  {
   "cell_type": "code",
   "execution_count": 32,
   "id": "c8bccfc0-6e2c-4403-8b4c-973b22311639",
   "metadata": {},
   "outputs": [
    {
     "data": {
      "text/plain": [
       "array([[ 6,  7,  7,  7,  7,  7,  4,  5,  2,  2],\n",
       "       [ 9,  8,  4,  6,  3,  8, 10,  7,  3,  9]])"
      ]
     },
     "execution_count": 32,
     "metadata": {},
     "output_type": "execute_result"
    }
   ],
   "source": [
    "T.reshape(2,10)"
   ]
  },
  {
   "cell_type": "code",
   "execution_count": 43,
   "id": "744b7828-e6a2-4114-831b-0f974301ff1a",
   "metadata": {},
   "outputs": [],
   "source": [
    "A.resize(4,5)"
   ]
  },
  {
   "cell_type": "code",
   "execution_count": 44,
   "id": "a8f0c61e-15f8-4c80-8478-5b89e9fb3d28",
   "metadata": {},
   "outputs": [
    {
     "data": {
      "text/plain": [
       "array([[ 6,  7,  7,  7,  7],\n",
       "       [ 7,  4,  5,  2,  2],\n",
       "       [ 9,  8,  4,  6,  3],\n",
       "       [ 8, 10,  7,  3,  9]])"
      ]
     },
     "execution_count": 44,
     "metadata": {},
     "output_type": "execute_result"
    }
   ],
   "source": [
    "A"
   ]
  },
  {
   "cell_type": "code",
   "execution_count": 45,
   "id": "3c1a4930-1e38-4277-9913-49fbb062eea1",
   "metadata": {},
   "outputs": [],
   "source": [
    "#[:,:] is reshape=view or shallow copy"
   ]
  },
  {
   "cell_type": "code",
   "execution_count": 46,
   "id": "2773e43e-a2fe-45c8-bbfb-1261fafc4f0d",
   "metadata": {},
   "outputs": [],
   "source": [
    "#copy() and .resize() makes a deep copy"
   ]
  },
  {
   "cell_type": "code",
   "execution_count": 48,
   "id": "dd82e092-1f72-4bee-9458-78e7d4efa517",
   "metadata": {},
   "outputs": [],
   "source": [
    "S = A.flatten()"
   ]
  },
  {
   "cell_type": "code",
   "execution_count": 49,
   "id": "db42d655-a23a-4178-805b-796bd3f6afcf",
   "metadata": {},
   "outputs": [],
   "source": [
    "S[0] = 1"
   ]
  },
  {
   "cell_type": "code",
   "execution_count": 50,
   "id": "63041c6f-49c3-4b82-8af5-4f4e4234eae1",
   "metadata": {},
   "outputs": [
    {
     "data": {
      "text/plain": [
       "array([ 1,  7,  7,  7,  7,  7,  4,  5,  2,  2,  9,  8,  4,  6,  3,  8, 10,\n",
       "        7,  3,  9])"
      ]
     },
     "execution_count": 50,
     "metadata": {},
     "output_type": "execute_result"
    }
   ],
   "source": [
    "S"
   ]
  },
  {
   "cell_type": "code",
   "execution_count": 51,
   "id": "5d993292-d81d-4813-b93e-6c966a1cae30",
   "metadata": {},
   "outputs": [
    {
     "data": {
      "text/plain": [
       "array([[ 6,  7,  7,  7,  7],\n",
       "       [ 7,  4,  5,  2,  2],\n",
       "       [ 9,  8,  4,  6,  3],\n",
       "       [ 8, 10,  7,  3,  9]])"
      ]
     },
     "execution_count": 51,
     "metadata": {},
     "output_type": "execute_result"
    }
   ],
   "source": [
    "A"
   ]
  },
  {
   "cell_type": "code",
   "execution_count": 52,
   "id": "4a65ca59-ebd3-42cb-ba43-5bf8b3c6b9f1",
   "metadata": {},
   "outputs": [],
   "source": [
    "S = A.ravel()"
   ]
  },
  {
   "cell_type": "code",
   "execution_count": 65,
   "id": "2b25c54f-4f31-476a-b2d4-35667ed2f61b",
   "metadata": {},
   "outputs": [],
   "source": [
    "A = np.random.randint(1,11, size=(1,5))\n",
    "B = np.random.randint(1,11, size=(4,5))"
   ]
  },
  {
   "cell_type": "code",
   "execution_count": 68,
   "id": "c4a645b0-80d0-4dde-ab56-29c49e326886",
   "metadata": {},
   "outputs": [
    {
     "data": {
      "text/plain": [
       "array([[6, 2, 1, 6, 6]])"
      ]
     },
     "execution_count": 68,
     "metadata": {},
     "output_type": "execute_result"
    }
   ],
   "source": [
    "A"
   ]
  },
  {
   "cell_type": "code",
   "execution_count": 69,
   "id": "698c0f4c-289a-407a-82bc-89824325aa45",
   "metadata": {},
   "outputs": [
    {
     "data": {
      "text/plain": [
       "array([[2, 4, 4, 7, 8],\n",
       "       [8, 9, 1, 8, 7],\n",
       "       [1, 2, 6, 1, 1],\n",
       "       [3, 6, 7, 1, 8]])"
      ]
     },
     "execution_count": 69,
     "metadata": {},
     "output_type": "execute_result"
    }
   ],
   "source": [
    "B"
   ]
  },
  {
   "cell_type": "code",
   "execution_count": 70,
   "id": "b8cfdafb-4763-40ad-80f8-af4c35ba6afc",
   "metadata": {},
   "outputs": [
    {
     "ename": "ValueError",
     "evalue": "all the input array dimensions except for the concatenation axis must match exactly, but along dimension 0, the array at index 0 has size 1 and the array at index 1 has size 4",
     "output_type": "error",
     "traceback": [
      "\u001b[0;31m---------------------------------------------------------------------------\u001b[0m",
      "\u001b[0;31mValueError\u001b[0m                                Traceback (most recent call last)",
      "Cell \u001b[0;32mIn[70], line 1\u001b[0m\n\u001b[0;32m----> 1\u001b[0m np\u001b[38;5;241m.\u001b[39mhstack((A,B))\n",
      "File \u001b[0;32m~/anaconda3/lib/python3.11/site-packages/numpy/core/shape_base.py:359\u001b[0m, in \u001b[0;36mhstack\u001b[0;34m(tup, dtype, casting)\u001b[0m\n\u001b[1;32m    357\u001b[0m     \u001b[38;5;28;01mreturn\u001b[39;00m _nx\u001b[38;5;241m.\u001b[39mconcatenate(arrs, \u001b[38;5;241m0\u001b[39m, dtype\u001b[38;5;241m=\u001b[39mdtype, casting\u001b[38;5;241m=\u001b[39mcasting)\n\u001b[1;32m    358\u001b[0m \u001b[38;5;28;01melse\u001b[39;00m:\n\u001b[0;32m--> 359\u001b[0m     \u001b[38;5;28;01mreturn\u001b[39;00m _nx\u001b[38;5;241m.\u001b[39mconcatenate(arrs, \u001b[38;5;241m1\u001b[39m, dtype\u001b[38;5;241m=\u001b[39mdtype, casting\u001b[38;5;241m=\u001b[39mcasting)\n",
      "\u001b[0;31mValueError\u001b[0m: all the input array dimensions except for the concatenation axis must match exactly, but along dimension 0, the array at index 0 has size 1 and the array at index 1 has size 4"
     ]
    }
   ],
   "source": [
    "np.hstack((A,B))"
   ]
  },
  {
   "cell_type": "code",
   "execution_count": 61,
   "id": "57b772a1-7080-4e75-ac4d-b1ef08cc0dfe",
   "metadata": {},
   "outputs": [],
   "source": [
    "#A"
   ]
  },
  {
   "cell_type": "code",
   "execution_count": 62,
   "id": "612022e7-3af3-4070-97cf-5eb5f6ca7c79",
   "metadata": {},
   "outputs": [],
   "source": [
    "#A.T #transpose: switches number of rows with number of columns"
   ]
  },
  {
   "cell_type": "code",
   "execution_count": 63,
   "id": "07004652-6724-4aea-b2e4-7a33417410d9",
   "metadata": {},
   "outputs": [],
   "source": [
    "#B"
   ]
  },
  {
   "cell_type": "code",
   "execution_count": null,
   "id": "622049d4-e088-439a-b048-ef899a13d1db",
   "metadata": {},
   "outputs": [],
   "source": []
  }
 ],
 "metadata": {
  "kernelspec": {
   "display_name": "Python 3 (ipykernel)",
   "language": "python",
   "name": "python3"
  },
  "language_info": {
   "codemirror_mode": {
    "name": "ipython",
    "version": 3
   },
   "file_extension": ".py",
   "mimetype": "text/x-python",
   "name": "python",
   "nbconvert_exporter": "python",
   "pygments_lexer": "ipython3",
   "version": "3.11.7"
  }
 },
 "nbformat": 4,
 "nbformat_minor": 5
}
