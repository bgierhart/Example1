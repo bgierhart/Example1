{
 "cells": [
  {
   "cell_type": "code",
   "execution_count": 3,
   "id": "5885509d-a1f8-45ef-89b4-7a55c9654cb2",
   "metadata": {},
   "outputs": [],
   "source": [
    "import math\n",
    "import random"
   ]
  },
  {
   "cell_type": "code",
   "execution_count": 4,
   "id": "a6a2a58f-b3f4-46ad-937d-28a275eb0d56",
   "metadata": {},
   "outputs": [],
   "source": [
    "numbers = []\n",
    "for i in range(10):\n",
    "    numbers.append(random.randint(0,100))"
   ]
  },
  {
   "cell_type": "code",
   "execution_count": 5,
   "id": "2604fbc8-90b1-4d44-b825-59af210033c5",
   "metadata": {},
   "outputs": [
    {
     "data": {
      "text/plain": [
       "[17, 10, 14]"
      ]
     },
     "execution_count": 5,
     "metadata": {},
     "output_type": "execute_result"
    }
   ],
   "source": [
    "list(filter(lambda x: math.sqrt(x)<5, numbers))"
   ]
  },
  {
   "cell_type": "markdown",
   "id": "599d37b2-65b2-4e8a-bc7a-c8472d5f6a69",
   "metadata": {},
   "source": [
    "### Maps"
   ]
  },
  {
   "cell_type": "code",
   "execution_count": 7,
   "id": "96cdddfa-9498-4c22-8e6f-084b788b5166",
   "metadata": {},
   "outputs": [],
   "source": [
    "states = ['Indiana', 'Illinois', 'Ohio', 'Tennessee', 'West Virginia', 'Virgina', 'Missouri']\n",
    "states.sort()"
   ]
  },
  {
   "cell_type": "code",
   "execution_count": 8,
   "id": "3bcfac17-cfca-439d-8bbe-60c852856c4e",
   "metadata": {},
   "outputs": [
    {
     "data": {
      "text/plain": [
       "['Illinois',\n",
       " 'Indiana',\n",
       " 'Missouri',\n",
       " 'Ohio',\n",
       " 'Tennessee',\n",
       " 'Virgina',\n",
       " 'West Virginia']"
      ]
     },
     "execution_count": 8,
     "metadata": {},
     "output_type": "execute_result"
    }
   ],
   "source": [
    "states"
   ]
  },
  {
   "cell_type": "code",
   "execution_count": 9,
   "id": "77a4e1b9-3355-4c5d-89c2-74cfaee4878a",
   "metadata": {},
   "outputs": [],
   "source": [
    "#States"
   ]
  },
  {
   "cell_type": "code",
   "execution_count": 10,
   "id": "e847fc3f-d995-49c6-aeb8-212e1a635417",
   "metadata": {},
   "outputs": [],
   "source": [
    "name_length = list(map(lambda x: len(x), states))"
   ]
  },
  {
   "cell_type": "code",
   "execution_count": 12,
   "id": "5794fed4-366c-408a-afad-32db1eba7631",
   "metadata": {},
   "outputs": [],
   "source": [
    "border_states = []\n",
    "for state, length in zip(states, name_length):\n",
    "    border_states.append((state,length))"
   ]
  },
  {
   "cell_type": "code",
   "execution_count": 13,
   "id": "1d7dc2eb-0d7b-44c5-ac6c-07a0fc226b17",
   "metadata": {},
   "outputs": [
    {
     "data": {
      "text/plain": [
       "[('Illinois', 8),\n",
       " ('Indiana', 7),\n",
       " ('Missouri', 8),\n",
       " ('Ohio', 4),\n",
       " ('Tennessee', 9),\n",
       " ('Virgina', 7),\n",
       " ('West Virginia', 13)]"
      ]
     },
     "execution_count": 13,
     "metadata": {},
     "output_type": "execute_result"
    }
   ],
   "source": [
    "border_states"
   ]
  },
  {
   "cell_type": "code",
   "execution_count": 14,
   "id": "6f192436-b2b4-4292-9454-d7d630f7691d",
   "metadata": {},
   "outputs": [],
   "source": [
    "d = {\"KY\": \"Kentucky\",\n",
    "     \"IN\": \"Indiana\",\n",
    "     \"IL\": \"Illinois\",\n",
    "     \"TN\": \"Tennessee\",\n",
    "     \"WV\": \"West Virginia\",\n",
    "     \"VA\": \"Virginia\",\n",
    "     \"MO\": \"Missouri\"\n",
    "    }\n"
   ]
  },
  {
   "cell_type": "code",
   "execution_count": 18,
   "id": "499b287c-a311-4842-81c9-84144b78ef88",
   "metadata": {},
   "outputs": [
    {
     "data": {
      "text/plain": [
       "'Missouri'"
      ]
     },
     "execution_count": 18,
     "metadata": {},
     "output_type": "execute_result"
    }
   ],
   "source": [
    "d[\"MO\"]"
   ]
  },
  {
   "cell_type": "code",
   "execution_count": null,
   "id": "b6283d72-0459-422a-9a19-ff3b0ff4baf4",
   "metadata": {},
   "outputs": [],
   "source": []
  }
 ],
 "metadata": {
  "kernelspec": {
   "display_name": "Python 3 (ipykernel)",
   "language": "python",
   "name": "python3"
  },
  "language_info": {
   "codemirror_mode": {
    "name": "ipython",
    "version": 3
   },
   "file_extension": ".py",
   "mimetype": "text/x-python",
   "name": "python",
   "nbconvert_exporter": "python",
   "pygments_lexer": "ipython3",
   "version": "3.11.7"
  }
 },
 "nbformat": 4,
 "nbformat_minor": 5
}
