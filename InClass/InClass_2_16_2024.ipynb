{
 "cells": [
  {
   "cell_type": "code",
   "execution_count": 6,
   "id": "a622b418-9161-4ea7-9612-ef4e9ee3b8de",
   "metadata": {},
   "outputs": [],
   "source": [
    "def F2C(temperature=32): #creating default parameters\n",
    "    new_temp = (float(temperature) - 32)*(9/5)\n",
    "    return new_temp"
   ]
  },
  {
   "cell_type": "code",
   "execution_count": 10,
   "id": "1b0a13eb-957b-497c-8156-f033328948fb",
   "metadata": {},
   "outputs": [
    {
     "name": "stdout",
     "output_type": "stream",
     "text": [
      "0.0\n"
     ]
    }
   ],
   "source": [
    "print(F2C())"
   ]
  },
  {
   "cell_type": "code",
   "execution_count": 11,
   "id": "aae6eeda-3238-4c55-a72e-d94106115b61",
   "metadata": {},
   "outputs": [],
   "source": [
    "def calculate_bill(amount, tax_rate=.05, discount=0): #default parameters must always be to the right\n",
    "    tax_amount = amount * tax_rate\n",
    "    total_amount = amount + tax_amount - discount\n",
    "    return total_amount"
   ]
  },
  {
   "cell_type": "code",
   "execution_count": 14,
   "id": "07a21dc3-69cc-4a7d-88d2-6acde04c4dac",
   "metadata": {},
   "outputs": [
    {
     "name": "stdout",
     "output_type": "stream",
     "text": [
      "26.25\n"
     ]
    }
   ],
   "source": [
    "print(calculate_bill(25))"
   ]
  },
  {
   "cell_type": "code",
   "execution_count": 25,
   "id": "a278ea4b-70c7-452d-8c4f-868570a46d4d",
   "metadata": {},
   "outputs": [],
   "source": [
    "#A = P(1+r*t) where P is principal, r = rate, and time is time(we'll assume years)\n",
    "def simple_interest(P, r, t):\n",
    "                    r = r/100\n",
    "                    amount = P*(1+r*t)\n",
    "                    return amount"
   ]
  },
  {
   "cell_type": "code",
   "execution_count": 27,
   "id": "17eb3c62-3ccb-46f4-8550-cc1d7473050c",
   "metadata": {},
   "outputs": [
    {
     "name": "stdin",
     "output_type": "stream",
     "text": [
      "Enter the principal amount of the investment 10000\n",
      "Enter the rate as a whole number 5\n",
      "Enter the number of years interest will accrue 10\n"
     ]
    }
   ],
   "source": [
    "principal = float(input(\"Enter the principal amount of the investment\"))\n",
    "rate = float(input(\"Enter the rate as a whole number\"))\n",
    "time = float(input(\"Enter the number of years interest will accrue\"))"
   ]
  },
  {
   "cell_type": "code",
   "execution_count": 28,
   "id": "eaa03e6c-4097-44d9-b0bc-fdd3765f0f80",
   "metadata": {},
   "outputs": [],
   "source": [
    "a = simple_interest(principal, rate, time)"
   ]
  },
  {
   "cell_type": "code",
   "execution_count": 30,
   "id": "6e5075c9-ed19-46a9-9142-cdd31db89bd3",
   "metadata": {},
   "outputs": [
    {
     "name": "stdout",
     "output_type": "stream",
     "text": [
      "The total amount and the end of investment will be 15000.00.\n"
     ]
    }
   ],
   "source": [
    "print(f\"The total amount and the end of investment will be {a:.2f}.\")"
   ]
  },
  {
   "cell_type": "code",
   "execution_count": 31,
   "id": "c20274b8-c707-4bce-9a8d-021e40872c88",
   "metadata": {},
   "outputs": [],
   "source": [
    "import math"
   ]
  },
  {
   "cell_type": "code",
   "execution_count": 44,
   "id": "98af60c6-7f05-4883-a080-d0c77f75509b",
   "metadata": {},
   "outputs": [],
   "source": [
    "#A=P(1+r/n)^nt\n",
    "#n=number of times interest is applied in a time period\n",
    "def compound_interest(P, r, n, t):\n",
    "    r = r/100\n",
    "    amount = P*(1 + r/n)**(n*t)\n",
    "    return amount"
   ]
  },
  {
   "cell_type": "code",
   "execution_count": 45,
   "id": "68cdcbe9-f038-4b9d-bfc1-93ebb4a907ce",
   "metadata": {},
   "outputs": [
    {
     "name": "stdin",
     "output_type": "stream",
     "text": [
      "Enter the principal amount of the investment 10000\n",
      "Enter the rate as a whole number 5\n",
      "Enter the number of times interest is applied in a year 10\n",
      "Enter the number of years interest will accrue 12\n"
     ]
    }
   ],
   "source": [
    "principal = float(input(\"Enter the principal amount of the investment\"))\n",
    "rate = float(input(\"Enter the rate as a whole number\"))\n",
    "number = float(input(\"Enter the number of times interest is applied in a year\"))\n",
    "time = float(input(\"Enter the number of years interest will accrue\"))"
   ]
  },
  {
   "cell_type": "code",
   "execution_count": 46,
   "id": "7e416857-9cc3-49ec-bea8-d9937399133d",
   "metadata": {},
   "outputs": [],
   "source": [
    "c = compound_interest(principal, rate, number, time)"
   ]
  },
  {
   "cell_type": "code",
   "execution_count": 47,
   "id": "5b27711d-6c33-43f0-8637-f6f1e1add406",
   "metadata": {},
   "outputs": [
    {
     "name": "stdout",
     "output_type": "stream",
     "text": [
      "The total amount and the end of investment will be 18193.97.\n"
     ]
    }
   ],
   "source": [
    "print(f\"The total amount and the end of investment will be {c:.2f}.\")"
   ]
  },
  {
   "cell_type": "code",
   "execution_count": null,
   "id": "f6fc9d23-df2c-41c6-9e1e-becfea9186b7",
   "metadata": {},
   "outputs": [],
   "source": []
  }
 ],
 "metadata": {
  "kernelspec": {
   "display_name": "Python 3 (ipykernel)",
   "language": "python",
   "name": "python3"
  },
  "language_info": {
   "codemirror_mode": {
    "name": "ipython",
    "version": 3
   },
   "file_extension": ".py",
   "mimetype": "text/x-python",
   "name": "python",
   "nbconvert_exporter": "python",
   "pygments_lexer": "ipython3",
   "version": "3.11.7"
  }
 },
 "nbformat": 4,
 "nbformat_minor": 5
}
