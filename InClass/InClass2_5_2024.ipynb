{
 "cells": [
  {
   "cell_type": "code",
   "execution_count": 1,
   "id": "53fe1501-0eb3-46c5-a80d-c5d95608aff2",
   "metadata": {},
   "outputs": [],
   "source": [
    "primes = [2, 3, 5, 7, 11, 13, 17, 19, 23, 29]"
   ]
  },
  {
   "cell_type": "code",
   "execution_count": 2,
   "id": "56b11c08-c841-4255-a96f-d2300ebee597",
   "metadata": {},
   "outputs": [
    {
     "data": {
      "text/plain": [
       "[2, 3, 5, 7, 11, 13, 17, 19, 23, 29]"
      ]
     },
     "execution_count": 2,
     "metadata": {},
     "output_type": "execute_result"
    }
   ],
   "source": [
    "primes"
   ]
  },
  {
   "cell_type": "code",
   "execution_count": 3,
   "id": "8cccc2d5-fae0-4416-b6ff-3ac95178a793",
   "metadata": {},
   "outputs": [
    {
     "data": {
      "text/plain": [
       "list"
      ]
     },
     "execution_count": 3,
     "metadata": {},
     "output_type": "execute_result"
    }
   ],
   "source": [
    "type(primes)"
   ]
  },
  {
   "cell_type": "code",
   "execution_count": 6,
   "id": "2ba3694d-b33e-4c7c-81a7-05f237435252",
   "metadata": {},
   "outputs": [
    {
     "name": "stdout",
     "output_type": "stream",
     "text": [
      "2\n",
      "3\n",
      "5\n",
      "7\n",
      "11\n",
      "13\n",
      "17\n",
      "19\n",
      "23\n",
      "29\n"
     ]
    }
   ],
   "source": [
    "for p in primes:\n",
    "    print(p) #this is the list you're iterating through, grabs first value in list, names it p, and let's you do something with it, keeps doing that as you go through the list. Don't have to worry about infinite loop."
   ]
  },
  {
   "cell_type": "code",
   "execution_count": 9,
   "id": "f88be91b-5154-446c-905e-cf2079c92e24",
   "metadata": {},
   "outputs": [
    {
     "name": "stdout",
     "output_type": "stream",
     "text": [
      "2 3 5 7 11 13 17 19 23 29 "
     ]
    }
   ],
   "source": [
    "for p in primes:\n",
    "    print(p, end= \" \")"
   ]
  },
  {
   "cell_type": "code",
   "execution_count": 11,
   "id": "6c7d8b39-44a4-45c9-a6d7-1d0c02f28ead",
   "metadata": {},
   "outputs": [],
   "source": [
    "words = [\"the\", \"cat\", \"in\", \"the\", \"hat\"]"
   ]
  },
  {
   "cell_type": "code",
   "execution_count": 12,
   "id": "205d557e-6c70-4073-bb97-c642beb05675",
   "metadata": {},
   "outputs": [
    {
     "name": "stdout",
     "output_type": "stream",
     "text": [
      "the|cat|in|the|hat|"
     ]
    }
   ],
   "source": [
    "for w in words:\n",
    "    print (w, end = \"|\")"
   ]
  },
  {
   "cell_type": "code",
   "execution_count": 13,
   "id": "29dd6426-6c81-4bd9-a2f4-e5543f681137",
   "metadata": {},
   "outputs": [
    {
     "name": "stdout",
     "output_type": "stream",
     "text": [
      "the\n",
      "cat\n",
      "in\n",
      "the\n",
      "hat\n"
     ]
    }
   ],
   "source": [
    "for w in words:\n",
    "    print(w)"
   ]
  },
  {
   "cell_type": "code",
   "execution_count": 14,
   "id": "c666e281-a56d-4ad7-9555-097de232c295",
   "metadata": {},
   "outputs": [],
   "source": [
    "floats = [43.54, 656.322, 684.222, 497.45, 392.23]"
   ]
  },
  {
   "cell_type": "code",
   "execution_count": 15,
   "id": "1586daec-9533-4ae3-9727-d336d6abf81b",
   "metadata": {},
   "outputs": [
    {
     "data": {
      "text/plain": [
       "[43.54, 656.322, 684.222, 497.45, 392.23]"
      ]
     },
     "execution_count": 15,
     "metadata": {},
     "output_type": "execute_result"
    }
   ],
   "source": [
    "floats"
   ]
  },
  {
   "cell_type": "code",
   "execution_count": 16,
   "id": "af471b06-0ac6-4e0f-bf99-76ecb593128a",
   "metadata": {},
   "outputs": [
    {
     "name": "stdout",
     "output_type": "stream",
     "text": [
      "43.54\n",
      "656.322\n",
      "684.222\n",
      "497.45\n",
      "392.23\n"
     ]
    }
   ],
   "source": [
    "for f in floats:\n",
    "    print(f)"
   ]
  },
  {
   "cell_type": "code",
   "execution_count": 24,
   "id": "cbea56ac-9c45-463e-9c0f-8f4ee6d7d87c",
   "metadata": {},
   "outputs": [
    {
     "name": "stdout",
     "output_type": "stream",
     "text": [
      "100 98 96 94 92 90 88 86 84 82 80 78 76 74 72 70 68 66 64 62 60 58 56 54 52 50 48 46 44 42 40 38 36 34 32 30 28 26 24 22 20 18 16 14 12 10 8 6 4 2 "
     ]
    }
   ],
   "source": [
    "for i in range(100,1,-2):\n",
    "    print(i, end=\" \")"
   ]
  },
  {
   "cell_type": "code",
   "execution_count": 25,
   "id": "59d7a926-4963-45a1-9c78-3a8f75f0f29a",
   "metadata": {},
   "outputs": [
    {
     "name": "stdout",
     "output_type": "stream",
     "text": [
      "0 100 200 300 400 500 600 700 800 900 1000 "
     ]
    }
   ],
   "source": [
    "for i in range(0,1001,100):\n",
    "    print(i, end= \" \")"
   ]
  },
  {
   "cell_type": "code",
   "execution_count": 35,
   "id": "b1af2b55-de15-40e5-a3b0-0c1bab01e8ce",
   "metadata": {},
   "outputs": [
    {
     "name": "stdout",
     "output_type": "stream",
     "text": [
      "  3.14\n",
      " 12.57\n",
      " 28.27\n",
      " 50.27\n",
      " 78.54\n",
      "113.10\n",
      "153.94\n",
      "201.06\n",
      "254.47\n",
      "314.16\n"
     ]
    }
   ],
   "source": [
    "import math\n",
    "radii = [1,2,3,4,5,6,7,8,9,10]\n",
    "for r in radii:\n",
    "    Carea = ((r**2)*math.pi)\n",
    "    print(f\"{Carea:>6.2f}\") #use > to line up numbers, following number comes before the .x f string and is the length of the longest number including the decimal"
   ]
  },
  {
   "cell_type": "code",
   "execution_count": null,
   "id": "1e9fb67d-31f7-4bff-96f1-23290e9491cb",
   "metadata": {},
   "outputs": [],
   "source": []
  }
 ],
 "metadata": {
  "kernelspec": {
   "display_name": "Python 3 (ipykernel)",
   "language": "python",
   "name": "python3"
  },
  "language_info": {
   "codemirror_mode": {
    "name": "ipython",
    "version": 3
   },
   "file_extension": ".py",
   "mimetype": "text/x-python",
   "name": "python",
   "nbconvert_exporter": "python",
   "pygments_lexer": "ipython3",
   "version": "3.11.7"
  }
 },
 "nbformat": 4,
 "nbformat_minor": 5
}
