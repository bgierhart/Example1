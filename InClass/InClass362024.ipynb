{
 "cells": [
  {
   "cell_type": "code",
   "execution_count": 2,
   "id": "7b014223-8d08-4332-a1c6-f330d7d259fb",
   "metadata": {},
   "outputs": [],
   "source": [
    "numbers = [4, 5 , 18, 24, 28, 42, 51, 56, 59, 63, 64, 68, 68, 72, 72, 77, 87, 89, 95, 99]"
   ]
  },
  {
   "cell_type": "code",
   "execution_count": 3,
   "id": "e64196df-1a8e-474f-86ff-74688ca7232a",
   "metadata": {},
   "outputs": [
    {
     "data": {
      "text/plain": [
       "[4, 5, 18, 24, 28, 42, 51, 56, 59, 63, 64, 68, 68, 72, 72, 77, 87, 89, 95, 99]"
      ]
     },
     "execution_count": 3,
     "metadata": {},
     "output_type": "execute_result"
    }
   ],
   "source": [
    "numbers"
   ]
  },
  {
   "cell_type": "code",
   "execution_count": 6,
   "id": "d18ec73b-a981-425c-8226-8c282487fb55",
   "metadata": {},
   "outputs": [],
   "source": [
    "numbers.sort(reverse=True)"
   ]
  },
  {
   "cell_type": "code",
   "execution_count": 7,
   "id": "77a328d8-60aa-4b5a-97cc-44d16ef3c673",
   "metadata": {},
   "outputs": [
    {
     "data": {
      "text/plain": [
       "[99, 95, 89, 87, 77, 72, 72, 68, 68, 64, 63, 59, 56, 51, 42, 28, 24, 18, 5, 4]"
      ]
     },
     "execution_count": 7,
     "metadata": {},
     "output_type": "execute_result"
    }
   ],
   "source": [
    "numbers"
   ]
  },
  {
   "cell_type": "code",
   "execution_count": 8,
   "id": "45d957a2-3881-47cb-b508-e07520ec0bce",
   "metadata": {},
   "outputs": [
    {
     "data": {
      "text/plain": [
       "[99, 95, 89, 87, 77, 72, 72, 68, 68, 64, 63, 59, 56, 51, 42, 28, 24, 18, 5, 4]"
      ]
     },
     "execution_count": 8,
     "metadata": {},
     "output_type": "execute_result"
    }
   ],
   "source": [
    "numbers"
   ]
  },
  {
   "cell_type": "code",
   "execution_count": 9,
   "id": "57a7d555-557d-417c-b68f-d6f5580ec58c",
   "metadata": {},
   "outputs": [],
   "source": [
    "numbers.sort()"
   ]
  },
  {
   "cell_type": "code",
   "execution_count": 10,
   "id": "5167ff21-74ca-4513-802a-84d95d49e184",
   "metadata": {},
   "outputs": [
    {
     "data": {
      "text/plain": [
       "[4, 5, 18, 24, 28, 42, 51, 56, 59, 63, 64, 68, 68, 72, 72, 77, 87, 89, 95, 99]"
      ]
     },
     "execution_count": 10,
     "metadata": {},
     "output_type": "execute_result"
    }
   ],
   "source": [
    "numbers"
   ]
  },
  {
   "cell_type": "code",
   "execution_count": 11,
   "id": "84e8e295-f307-402e-98e0-0d07a08da6f5",
   "metadata": {},
   "outputs": [
    {
     "data": {
      "text/plain": [
       "11"
      ]
     },
     "execution_count": 11,
     "metadata": {},
     "output_type": "execute_result"
    }
   ],
   "source": [
    "numbers.index(68)"
   ]
  },
  {
   "cell_type": "code",
   "execution_count": 12,
   "id": "e93825f5-4037-45ff-bdbe-4d31cb962635",
   "metadata": {},
   "outputs": [],
   "source": [
    "numbers.sort(reverse=True)"
   ]
  },
  {
   "cell_type": "code",
   "execution_count": 13,
   "id": "0dd4b9bd-1f67-49a8-b1f0-4757fe7187a4",
   "metadata": {},
   "outputs": [
    {
     "data": {
      "text/plain": [
       "[99, 95, 89, 87, 77, 72, 72, 68, 68, 64, 63, 59, 56, 51, 42, 28, 24, 18, 5, 4]"
      ]
     },
     "execution_count": 13,
     "metadata": {},
     "output_type": "execute_result"
    }
   ],
   "source": [
    "numbers"
   ]
  },
  {
   "cell_type": "code",
   "execution_count": 14,
   "id": "8839947f-bed8-4882-820a-2c916bdc9150",
   "metadata": {},
   "outputs": [
    {
     "data": {
      "text/plain": [
       "7"
      ]
     },
     "execution_count": 14,
     "metadata": {},
     "output_type": "execute_result"
    }
   ],
   "source": [
    "numbers.index(68)"
   ]
  },
  {
   "cell_type": "code",
   "execution_count": 15,
   "id": "06bf3aac-d5e3-4e9b-b1e2-3d4432d44dac",
   "metadata": {},
   "outputs": [
    {
     "data": {
      "text/plain": [
       "False"
      ]
     },
     "execution_count": 15,
     "metadata": {},
     "output_type": "execute_result"
    }
   ],
   "source": [
    "35 in numbers #searches the list to see if that number is present"
   ]
  },
  {
   "cell_type": "code",
   "execution_count": 16,
   "id": "ef73c5f4-fd2c-4db3-8cc5-a7376394f1e4",
   "metadata": {},
   "outputs": [
    {
     "data": {
      "text/plain": [
       "True"
      ]
     },
     "execution_count": 16,
     "metadata": {},
     "output_type": "execute_result"
    }
   ],
   "source": [
    "35 not in numbers"
   ]
  },
  {
   "cell_type": "code",
   "execution_count": 20,
   "id": "7a5cbe42-b97a-46de-93af-5d291e77860c",
   "metadata": {},
   "outputs": [],
   "source": [
    "squares=[number**2 for number in numbers] #syntax meaning: \"for\" every number in the list do the first parameter through the whole list"
   ]
  },
  {
   "cell_type": "code",
   "execution_count": 19,
   "id": "b6bb51bc-cae8-4153-ba17-bc848a47b0ce",
   "metadata": {},
   "outputs": [
    {
     "data": {
      "text/plain": [
       "[9801,\n",
       " 9025,\n",
       " 7921,\n",
       " 7569,\n",
       " 5929,\n",
       " 5184,\n",
       " 5184,\n",
       " 4624,\n",
       " 4624,\n",
       " 4096,\n",
       " 3969,\n",
       " 3481,\n",
       " 3136,\n",
       " 2601,\n",
       " 1764,\n",
       " 784,\n",
       " 576,\n",
       " 324,\n",
       " 25,\n",
       " 16]"
      ]
     },
     "execution_count": 19,
     "metadata": {},
     "output_type": "execute_result"
    }
   ],
   "source": [
    "squares"
   ]
  },
  {
   "cell_type": "code",
   "execution_count": null,
   "id": "a818034d-08cf-4c8c-8c26-26b667b288cc",
   "metadata": {},
   "outputs": [],
   "source": []
  }
 ],
 "metadata": {
  "kernelspec": {
   "display_name": "Python 3 (ipykernel)",
   "language": "python",
   "name": "python3"
  },
  "language_info": {
   "codemirror_mode": {
    "name": "ipython",
    "version": 3
   },
   "file_extension": ".py",
   "mimetype": "text/x-python",
   "name": "python",
   "nbconvert_exporter": "python",
   "pygments_lexer": "ipython3",
   "version": "3.11.7"
  }
 },
 "nbformat": 4,
 "nbformat_minor": 5
}
