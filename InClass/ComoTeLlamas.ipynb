{
 "cells": [
  {
   "cell_type": "code",
   "execution_count": 2,
   "id": "f9665a12-ca65-4f40-a6ec-e5cf91119135",
   "metadata": {},
   "outputs": [],
   "source": [
    "def como_te_llamas():\n",
    "    first_name = input(\"What is your first name?\")\n",
    "    middle_name = input(\"What is your middle name?\")\n",
    "    last_name = input(\"What is your last name?\")\n",
    "    return first_name, middle_name, last_name"
   ]
  },
  {
   "cell_type": "code",
   "execution_count": null,
   "id": "9a9f8e6a-8052-449d-bad9-3c7752e27725",
   "metadata": {},
   "outputs": [],
   "source": [
    "print(como_te_llamas())"
   ]
  },
  {
   "cell_type": "code",
   "execution_count": null,
   "id": "35d6088d-a5a2-49b8-b92a-9d90502838c2",
   "metadata": {},
   "outputs": [],
   "source": []
  }
 ],
 "metadata": {
  "kernelspec": {
   "display_name": "Python 3 (ipykernel)",
   "language": "python",
   "name": "python3"
  },
  "language_info": {
   "codemirror_mode": {
    "name": "ipython",
    "version": 3
   },
   "file_extension": ".py",
   "mimetype": "text/x-python",
   "name": "python",
   "nbconvert_exporter": "python",
   "pygments_lexer": "ipython3",
   "version": "3.11.7"
  }
 },
 "nbformat": 4,
 "nbformat_minor": 5
}
