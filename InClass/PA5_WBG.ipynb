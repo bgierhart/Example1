{
 "cells": [
  {
   "cell_type": "markdown",
   "id": "0462ad73-bf9c-4357-8fe7-b1131cd7d9d7",
   "metadata": {},
   "source": [
    "### PA5_WBG\n",
    "---\n",
    "**Author:** Ben Gierhart  \n",
    "**Version:** 1.0  \n",
    "**Semester:** Spring 2024 \n",
    "\n",
    "This *notebook* contains my solution(s) to **PA5_WBG**"
   ]
  },
  {
   "cell_type": "markdown",
   "id": "54d2efa6-d4cd-4ac8-bac8-54a2143bf9c5",
   "metadata": {},
   "source": [
    "### Problem 1 — Language Translator"
   ]
  },
  {
   "cell_type": "code",
   "execution_count": 1,
   "id": "09b6744b-1676-408f-b11b-6ba74054dfcd",
   "metadata": {},
   "outputs": [
    {
     "name": "stdin",
     "output_type": "stream",
     "text": [
      "Enter a word to translate from English to Spanish (enter Q to stop): couch\n"
     ]
    },
    {
     "name": "stdout",
     "output_type": "stream",
     "text": [
      "The Spanish word for COUCH is not in this dictionary.\n"
     ]
    },
    {
     "name": "stdin",
     "output_type": "stream",
     "text": [
      "Enter a word to translate from English to Spanish (enter Q to stop): man\n"
     ]
    },
    {
     "name": "stdout",
     "output_type": "stream",
     "text": [
      "The Spanish word for man is HOMBRE.\n"
     ]
    },
    {
     "name": "stdin",
     "output_type": "stream",
     "text": [
      "Enter a word to translate from English to Spanish (enter Q to stop): Q\n"
     ]
    },
    {
     "name": "stdout",
     "output_type": "stream",
     "text": [
      "Done!\n"
     ]
    }
   ],
   "source": [
    "spanish_dictionary = {\"chair\": \"silla\",\n",
    "    \"man\": \"hombre\",\n",
    "    \"woman\": \"mujer\",\n",
    "    \"sun\": \"sol\",\n",
    "    \"moon\": \"luna\",\n",
    "    \"star\": \"estrella\",\n",
    "    \"sky\": \"cielo\",\n",
    "    \"car\": \"coche\",\n",
    "    \"food\": \"comida\",\n",
    "    \"city\": \"ciudad\",\n",
    "    \"stop\": \"parada\",\n",
    "    \"gas\": \"gasolina\",\n",
    "    \"always\": \"siempre\",\n",
    "    \"never\": \"nunca\",\n",
    "    \"amazing\": \"maravilloso\",\n",
    "    \"shelf\": \"estante\",\n",
    "    \"book\": \"libro\",\n",
    "    \"fox\": \"zorro\",\n",
    "    \"keyboard\": \"teclado\",\n",
    "    \"screen\": \"pantalla\"\n",
    "}\n",
    "\n",
    "word = input(\"Enter a word to translate from English to Spanish (enter Q to stop):\")\n",
    "while word!=\"Q\":\n",
    "    if word in spanish_dictionary:\n",
    "        print(\"The Spanish word for \" + word + \" is \" + spanish_dictionary[word].upper() + \".\")\n",
    "        word = input(\"Enter a word to translate from English to Spanish (enter Q to stop):\")\n",
    "    else:\n",
    "        print(\"The Spanish word for \" + word.upper() + \" is not in this dictionary.\")\n",
    "        word = input(\"Enter a word to translate from English to Spanish (enter Q to stop):\")\n",
    "if word==\"Q\":\n",
    "    print(\"Done!\")"
   ]
  },
  {
   "cell_type": "markdown",
   "id": "27c82a0e-762c-407b-9db6-e6788661354a",
   "metadata": {},
   "source": [
    "### Problem 2 — Translating Morse Code"
   ]
  },
  {
   "cell_type": "code",
   "execution_count": 3,
   "id": "8f920b7c-b192-44a8-a95d-9f5120d526d9",
   "metadata": {},
   "outputs": [],
   "source": [
    "morse_code = {\"A\": \".–\",\n",
    "              \"B\": \"–...\",\n",
    "              \"C\": \"–.–.\",\n",
    "              \"D\": \"–..\",\n",
    "              \"E\": \".\",\n",
    "              \"F\": \"..–.\",\n",
    "              \"G\": \"––.\",\n",
    "              \"H\": \"....\",\n",
    "              \"I\": \"..\",\n",
    "              \"J\": \".–––\",\n",
    "              \"K\": \"–.–\",\n",
    "              \"L\": \".–..\",\n",
    "              \"M\": \"––\",\n",
    "              \"N\": \"–.\",\n",
    "              \"O\": \"–––\",\n",
    "              \"P\": \".––.\",\n",
    "              \"Q\": \"––.–\",\n",
    "              \"R\": \".–.\",\n",
    "              \"S\": \"...\",\n",
    "              \"T\": \"–\",\n",
    "              \"U\": \"..–\",\n",
    "              \"V\": \"...–\",\n",
    "              \"W\": \".––\",\n",
    "              \"X\": \"_.._\",\n",
    "              \"Y\": \"–.––\",\n",
    "              \"Z\": \"––..\",\n",
    "              \"0\": \"–––––\",\n",
    "              \"1\": \".––––\",\n",
    "              \"2\": \"..–––\",\n",
    "              \"3\": \"...––\",\n",
    "              \"4\": \"....–\",\n",
    "              \"5\": \".....\",\n",
    "              \"6\": \"–....\",\n",
    "              \"7\": \"––...\",\n",
    "              \"8\": \"–––..\",\n",
    "              \"9\": \"––––.\"\n",
    "}\n",
    "\n",
    "def morse_code_translator():\n",
    "    original_sentence = input('Type the sentence you would like translated into Morse Code. Use only uppercase letters and numbers. \"q\" to quit.')\n",
    "    while original_sentence!=\"q\":\n",
    "        translated_text = \"\"\n",
    "        for character in original_sentence:\n",
    "            if character in morse_code:\n",
    "                translated_text += morse_code[character]\n",
    "            else:\n",
    "                pass\n",
    "        print(translated_text)\n",
    "        original_sentence = input('Type the sentence you would like translated into Morse Code. Use only uppercase letters and numbers. \"q\" to quit.')\n",
    "    if original_sentence==\"q\":\n",
    "        print(\"Done!\")"
   ]
  },
  {
   "cell_type": "code",
   "execution_count": 4,
   "id": "eb2dbe51-bded-4807-9a69-a77ef194976d",
   "metadata": {},
   "outputs": [
    {
     "name": "stdin",
     "output_type": "stream",
     "text": [
      "Type the sentence you would like translated into Morse Code. Use only uppercase letters and numbers. \"q\" to quit. HELLO LILLY\n"
     ]
    },
    {
     "name": "stdout",
     "output_type": "stream",
     "text": [
      "......–...–..–––.–.....–...–..–.––\n"
     ]
    },
    {
     "name": "stdin",
     "output_type": "stream",
     "text": [
      "Type the sentence you would like translated into Morse Code. Use only uppercase letters and numbers. \"q\" to quit. Q\n"
     ]
    },
    {
     "name": "stdout",
     "output_type": "stream",
     "text": [
      "––.–\n"
     ]
    },
    {
     "name": "stdin",
     "output_type": "stream",
     "text": [
      "Type the sentence you would like translated into Morse Code. Use only uppercase letters and numbers. \"q\" to quit. q\n"
     ]
    },
    {
     "name": "stdout",
     "output_type": "stream",
     "text": [
      "Done!\n"
     ]
    }
   ],
   "source": [
    "morse_code_translator()"
   ]
  },
  {
   "cell_type": "markdown",
   "id": "a486413f-48e9-4e0f-a75e-241e4cc98f6f",
   "metadata": {},
   "source": [
    "### Problem 3 — Comparing Minors/Majors"
   ]
  },
  {
   "cell_type": "code",
   "execution_count": 14,
   "id": "9d5d0f2e-444b-4eca-af37-9a3e9873f25e",
   "metadata": {},
   "outputs": [],
   "source": [
    "Computer_Science_minor = {\"CS130\", \"CS131\", \"CS215\"}\n",
    "Business_Administration_minor = {\"BUSA103\", \"BUSA203\", \"BUSA301\", \"BUSA305\", \"ACCT101\", \"ECON110\", \"FINA315\", \"MATH117\"}\n",
    "Business_Analytics_minor = {\"BUSA103\", \"BUSA245\", \"BUSA346\", \"CS150\", \"DS160\", \"DS300\", \"MATH117\", \"MATH205\"}\n",
    "Data_Science_major = {\"BUSA103\", \"CS150\", \"MATH117\", \"DS160\", \"MATH205\",\"BUSA245\", \"MATH215\", \"ECON111\", \"DS300\", \"BUSA346\", \"ECON410\", \"DS450\"}"
   ]
  },
  {
   "cell_type": "code",
   "execution_count": 15,
   "id": "f5f714d2-2dfb-492a-8ae7-e42ec880f066",
   "metadata": {},
   "outputs": [
    {
     "data": {
      "text/plain": [
       "{'BUSA103', 'MATH117'}"
      ]
     },
     "execution_count": 15,
     "metadata": {},
     "output_type": "execute_result"
    }
   ],
   "source": [
    "###i.###\n",
    "Business_Administration_minor & Business_Analytics_minor"
   ]
  },
  {
   "cell_type": "code",
   "execution_count": 16,
   "id": "587f9fde-8998-4935-bd30-7962728e060d",
   "metadata": {},
   "outputs": [
    {
     "data": {
      "text/plain": [
       "{'ACCT101',\n",
       " 'BUSA103',\n",
       " 'BUSA203',\n",
       " 'BUSA301',\n",
       " 'BUSA305',\n",
       " 'CS130',\n",
       " 'CS131',\n",
       " 'CS215',\n",
       " 'ECON110',\n",
       " 'FINA315',\n",
       " 'MATH117'}"
      ]
     },
     "execution_count": 16,
     "metadata": {},
     "output_type": "execute_result"
    }
   ],
   "source": [
    "###ii.###\n",
    "Business_Administration_minor ^ Computer_Science_minor"
   ]
  },
  {
   "cell_type": "code",
   "execution_count": 17,
   "id": "446eef5a-4fdc-40d6-bc2a-14b313c5b755",
   "metadata": {},
   "outputs": [
    {
     "data": {
      "text/plain": [
       "{'ACCT101', 'BUSA203', 'BUSA301', 'BUSA305', 'ECON110', 'FINA315'}"
      ]
     },
     "execution_count": 17,
     "metadata": {},
     "output_type": "execute_result"
    }
   ],
   "source": [
    "###iii.###\n",
    "Business_Administration_minor - Business_Analytics_minor"
   ]
  },
  {
   "cell_type": "code",
   "execution_count": 18,
   "id": "c231af63-1c76-4310-b070-4c1083657d90",
   "metadata": {},
   "outputs": [
    {
     "data": {
      "text/plain": [
       "set()"
      ]
     },
     "execution_count": 18,
     "metadata": {},
     "output_type": "execute_result"
    }
   ],
   "source": [
    "###iv.###\n",
    "Computer_Science_minor & Data_Science_major"
   ]
  },
  {
   "cell_type": "code",
   "execution_count": 19,
   "id": "765b2af7-d573-4602-8556-4f0b90e481db",
   "metadata": {},
   "outputs": [
    {
     "data": {
      "text/plain": [
       "set()"
      ]
     },
     "execution_count": 19,
     "metadata": {},
     "output_type": "execute_result"
    }
   ],
   "source": [
    "###v.###\n",
    "Business_Analytics_minor - Data_Science_major"
   ]
  },
  {
   "cell_type": "markdown",
   "id": "72b4c3b5-33d4-44ca-a629-275d24023d42",
   "metadata": {},
   "source": [
    "### Problem 4 — Working with NumPy"
   ]
  },
  {
   "cell_type": "code",
   "execution_count": 20,
   "id": "13401ac5-40d3-48de-bb75-8d0b52006104",
   "metadata": {},
   "outputs": [],
   "source": [
    "import numpy as np"
   ]
  },
  {
   "cell_type": "code",
   "execution_count": 25,
   "id": "d75f02e4-2e4e-4469-8ead-550bb1f2aecd",
   "metadata": {},
   "outputs": [
    {
     "data": {
      "text/plain": [
       "array([[18,  2, 15,  6, 19],\n",
       "       [ 4, 10,  4,  7, 14],\n",
       "       [ 3, 19,  9, 12,  2],\n",
       "       [19, 15,  4, 14,  3],\n",
       "       [12, 15, 16,  1,  7]])"
      ]
     },
     "execution_count": 25,
     "metadata": {},
     "output_type": "execute_result"
    }
   ],
   "source": [
    "A1 = np.random.randint(1,21, size=(5,5))\n",
    "A2 = np.random.randint(1,21, size=(5,5))\n",
    "\n",
    "A1"
   ]
  },
  {
   "cell_type": "code",
   "execution_count": 26,
   "id": "02cc7a55-0eb3-452b-bcef-6f7d51b9e550",
   "metadata": {},
   "outputs": [
    {
     "data": {
      "text/plain": [
       "array([[20, 16,  3, 12,  1],\n",
       "       [16, 17, 19, 19, 19],\n",
       "       [ 3,  7,  7,  1, 14],\n",
       "       [ 6,  9,  2,  7,  2],\n",
       "       [ 7,  7, 13, 15, 17]])"
      ]
     },
     "execution_count": 26,
     "metadata": {},
     "output_type": "execute_result"
    }
   ],
   "source": [
    "A2"
   ]
  },
  {
   "cell_type": "code",
   "execution_count": 49,
   "id": "992192cc-fb5f-4d8f-bd2d-45af2246037d",
   "metadata": {},
   "outputs": [
    {
     "name": "stdout",
     "output_type": "stream",
     "text": [
      "[[606 614 456 596 601]\n",
      " [392 423 426 501 502]\n",
      " [477 556 483 520 548]\n",
      " [737 734 437 660 439]\n",
      " [583 617 526 557 642]]\n"
     ]
    }
   ],
   "source": [
    "###a.###\n",
    "matrix_product = np.dot(A1,A2)\n",
    "print(matrix_product)"
   ]
  },
  {
   "cell_type": "code",
   "execution_count": 50,
   "id": "6a02e18a-517a-47e1-be89-9d0ee409492f",
   "metadata": {},
   "outputs": [
    {
     "data": {
      "text/plain": [
       "-788303.9999999992"
      ]
     },
     "execution_count": 50,
     "metadata": {},
     "output_type": "execute_result"
    }
   ],
   "source": [
    "###b.###\n",
    "det1 = np.linalg.det(A1)\n",
    "det1"
   ]
  },
  {
   "cell_type": "code",
   "execution_count": 51,
   "id": "4c9031cd-6c08-47f0-b0e8-b9a2657aa252",
   "metadata": {},
   "outputs": [
    {
     "data": {
      "text/plain": [
       "-74711.99999999999"
      ]
     },
     "execution_count": 51,
     "metadata": {},
     "output_type": "execute_result"
    }
   ],
   "source": [
    "det2 = np.linalg.det(A2)\n",
    "det2"
   ]
  },
  {
   "cell_type": "code",
   "execution_count": 52,
   "id": "122e59aa-8813-489e-b859-2185f1c5e77a",
   "metadata": {},
   "outputs": [
    {
     "data": {
      "text/plain": [
       "array([[-4.51602427e-03, -9.43798332e-03, -5.50549027e-02,\n",
       "         5.20915789e-02,  2.45387566e-02],\n",
       "       [-6.10944509e-02,  5.63082263e-02, -2.57020134e-02,\n",
       "         1.62310479e-02,  5.35986117e-02],\n",
       "       [ 5.67103554e-02, -7.67064483e-02,  7.33790517e-02,\n",
       "        -4.88073129e-02, -5.63234488e-04],\n",
       "       [ 5.51360896e-02, -4.20751385e-02,  8.78950253e-02,\n",
       "        -3.04451075e-05, -9.06046398e-02],\n",
       "       [ 1.15818263e-03,  7.68586738e-02, -3.08244028e-02,\n",
       "        -1.25167448e-02,  1.67448091e-04]])"
      ]
     },
     "execution_count": 52,
     "metadata": {},
     "output_type": "execute_result"
    }
   ],
   "source": [
    "inv1 = np.linalg.inv(A1)\n",
    "inv1"
   ]
  },
  {
   "cell_type": "code",
   "execution_count": 53,
   "id": "a8401c12-ca45-4d9b-8884-7aeb891b8f5e",
   "metadata": {},
   "outputs": [
    {
     "data": {
      "text/plain": [
       "array([[ 0.1146536 , -0.02224542,  0.01740015, -0.19624692,  0.02687654],\n",
       "       [-0.06211854,  0.03995342,  0.03493415,  0.19061195, -0.09219403],\n",
       "       [-0.07749759,  0.21209444, -0.07083199, -0.07958561, -0.1647928 ],\n",
       "       [-0.0093827 , -0.05946836, -0.06539779,  0.09450958,  0.10975479],\n",
       "       [ 0.04590963, -0.11700932,  0.09032016, -0.02021094,  0.11489453]])"
      ]
     },
     "execution_count": 53,
     "metadata": {},
     "output_type": "execute_result"
    }
   ],
   "source": [
    "inv2 = np.linalg.inv(A2)\n",
    "inv2"
   ]
  },
  {
   "cell_type": "code",
   "execution_count": 54,
   "id": "e64f545a-adc6-49a1-a7b3-49330787bd4a",
   "metadata": {},
   "outputs": [
    {
     "data": {
      "text/plain": [
       "array([0.        , 0.05263158, 0.10526316, 0.15789474, 0.21052632,\n",
       "       0.26315789, 0.31578947, 0.36842105, 0.42105263, 0.47368421,\n",
       "       0.52631579, 0.57894737, 0.63157895, 0.68421053, 0.73684211,\n",
       "       0.78947368, 0.84210526, 0.89473684, 0.94736842, 1.        ])"
      ]
     },
     "execution_count": 54,
     "metadata": {},
     "output_type": "execute_result"
    }
   ],
   "source": [
    "###c.###\n",
    "OneD_A1 = np.linspace(0.0,1.0, num=20)\n",
    "OneD_A1"
   ]
  },
  {
   "cell_type": "code",
   "execution_count": 55,
   "id": "325fcc6b-d2aa-4f79-9d1b-3f96743d8323",
   "metadata": {},
   "outputs": [
    {
     "data": {
      "text/plain": [
       "array([1.        , 1.05263158, 1.10526316, 1.15789474, 1.21052632,\n",
       "       1.26315789, 1.31578947, 1.36842105, 1.42105263, 1.47368421,\n",
       "       1.52631579, 1.57894737, 1.63157895, 1.68421053, 1.73684211,\n",
       "       1.78947368, 1.84210526, 1.89473684, 1.94736842, 2.        ])"
      ]
     },
     "execution_count": 55,
     "metadata": {},
     "output_type": "execute_result"
    }
   ],
   "source": [
    "OneD_A2 = np.linspace(1.0,2.0, num=20)\n",
    "OneD_A2"
   ]
  },
  {
   "cell_type": "code",
   "execution_count": 56,
   "id": "3859a6a1-27e4-4af0-9034-dce2ddde21e1",
   "metadata": {},
   "outputs": [
    {
     "data": {
      "text/plain": [
       "array([0.        , 0.05263158, 0.10526316, 0.15789474, 0.21052632,\n",
       "       0.26315789, 0.31578947, 0.36842105, 0.42105263, 0.47368421,\n",
       "       0.52631579, 0.57894737, 0.63157895, 0.68421053, 0.73684211,\n",
       "       0.78947368, 0.84210526, 0.89473684, 0.94736842, 1.        ,\n",
       "       1.        , 1.05263158, 1.10526316, 1.15789474, 1.21052632,\n",
       "       1.26315789, 1.31578947, 1.36842105, 1.42105263, 1.47368421,\n",
       "       1.52631579, 1.57894737, 1.63157895, 1.68421053, 1.73684211,\n",
       "       1.78947368, 1.84210526, 1.89473684, 1.94736842, 2.        ])"
      ]
     },
     "execution_count": 56,
     "metadata": {},
     "output_type": "execute_result"
    }
   ],
   "source": [
    "concatenated = np.concatenate((OneD_A1, OneD_A2))\n",
    "concatenated"
   ]
  },
  {
   "cell_type": "code",
   "execution_count": 57,
   "id": "2ba16275-f166-442a-a65f-6c26101e7d9c",
   "metadata": {},
   "outputs": [
    {
     "data": {
      "text/plain": [
       "array([[0.        , 0.05263158, 0.10526316, 0.15789474],\n",
       "       [0.21052632, 0.26315789, 0.31578947, 0.36842105],\n",
       "       [0.42105263, 0.47368421, 0.52631579, 0.57894737],\n",
       "       [0.63157895, 0.68421053, 0.73684211, 0.78947368],\n",
       "       [0.84210526, 0.89473684, 0.94736842, 1.        ],\n",
       "       [1.        , 1.05263158, 1.10526316, 1.15789474],\n",
       "       [1.21052632, 1.26315789, 1.31578947, 1.36842105],\n",
       "       [1.42105263, 1.47368421, 1.52631579, 1.57894737],\n",
       "       [1.63157895, 1.68421053, 1.73684211, 1.78947368],\n",
       "       [1.84210526, 1.89473684, 1.94736842, 2.        ]])"
      ]
     },
     "execution_count": 57,
     "metadata": {},
     "output_type": "execute_result"
    }
   ],
   "source": [
    "concatenated.reshape(10,4)"
   ]
  },
  {
   "cell_type": "code",
   "execution_count": 7,
   "id": "2fd98009-19e5-46f6-b21f-b7a967cb634c",
   "metadata": {},
   "outputs": [],
   "source": [
    "world_premieres = {\"A\": \"Starting on May 31, 2024 and continuing into Pride month, Actors Theatre of Louisville will partner with Drag Daddy Productions on the world premiere of Won't you be my May-bor? by Andrew Newton Schafflein and Eric Sharp, starring drag performer May O'Nays (Schafflein), and directed by Emily Tarquin, Actors Theatre's Executive Producer and Co-Director of Artistic Programming. In this production, May O'Nays portrays an escape room artist who has conquered every room but one—the elusive Mr. Rogers room. Unlike conventional escape rooms, this experience demands a shift in perspective as solving this puzzle will take patience, mindfulness, and deep listening. This interactive journey, inspired by the teachings of Mr. Rogers, will be a collective exploration of what it truly means to be a good neighbor. Won't you be my May-bor? will premiere in the Victor Jory Theater with a special sneak peek supported by the Fund for the Arts, before heading out to Owensboro, Hazard, and other communities throughout Kentucky.\",\n",
    "    \"B\": \"On July 13, please join us at Alberta O. Jones Park for the world premiere of Who Killed Alberta Jones? by Larry Muhammad. In partnership with the Parks Alliance of Louisville, Actors Theatre of Louisville will present Redline Performing Arts' world-premiere production of this incredible play that tells the story of Alberta Odell Jones, the first Black woman to pass the bar in Kentucky. Jones was a prominent attorney and activist for voting rights, representing both vulnerable and prominent figures like Muhammad Ali. Jones' life was tragically cut short and her murder remains an unsolved case. Following the premiere in the park, the city's newest public green space, there will be several performances in the Victor Jory Theater in August.\"\n",
    "}\n",
    "\n",
    "def question1():\n",
    "    selection = input(\"Please enter your the letter corresponding to your selection (enter Q to stop):\")\n",
    "    if selection in world_premieres:\n",
    "        print(world_premieres[selection])\n",
    "    \n",
    "    else:\n",
    "        print(\"That is not a valid selection\")"
   ]
  },
  {
   "cell_type": "code",
   "execution_count": 11,
   "id": "79d02a07-2fb3-4fa0-94d3-565679e13e56",
   "metadata": {},
   "outputs": [
    {
     "name": "stdin",
     "output_type": "stream",
     "text": [
      "Please enter your the letter corresponding to your selection (enter Q to stop): Q\n"
     ]
    },
    {
     "name": "stdout",
     "output_type": "stream",
     "text": [
      "Done!\n"
     ]
    }
   ],
   "source": [
    "question1()"
   ]
  },
  {
   "cell_type": "code",
   "execution_count": null,
   "id": "4341a804-e1ae-4d9f-9d4c-a9a350e7347c",
   "metadata": {},
   "outputs": [],
   "source": []
  }
 ],
 "metadata": {
  "kernelspec": {
   "display_name": "Python 3 (ipykernel)",
   "language": "python",
   "name": "python3"
  },
  "language_info": {
   "codemirror_mode": {
    "name": "ipython",
    "version": 3
   },
   "file_extension": ".py",
   "mimetype": "text/x-python",
   "name": "python",
   "nbconvert_exporter": "python",
   "pygments_lexer": "ipython3",
   "version": "3.11.7"
  }
 },
 "nbformat": 4,
 "nbformat_minor": 5
}
