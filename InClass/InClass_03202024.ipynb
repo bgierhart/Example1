{
 "cells": [
  {
   "cell_type": "markdown",
   "id": "c4702eab-5905-4825-8657-9384df85677c",
   "metadata": {},
   "source": [
    "### Sets"
   ]
  },
  {
   "cell_type": "code",
   "execution_count": 1,
   "id": "08791299-7456-44b8-9fce-26a96381f9ff",
   "metadata": {},
   "outputs": [],
   "source": [
    "KY = {'IN', 'IL', 'WV', 'VA', 'OH', 'TN', 'MO'}"
   ]
  },
  {
   "cell_type": "code",
   "execution_count": 2,
   "id": "a5f2d1d6-ec1f-4c1a-afff-816dd01e429d",
   "metadata": {},
   "outputs": [],
   "source": [
    "TN = {'KY', 'VA', 'NC', 'GA', 'AL', 'MS', 'AR', 'MO'}"
   ]
  },
  {
   "cell_type": "code",
   "execution_count": 3,
   "id": "a806fdf5-9a44-42a5-93e2-0842c3c5455b",
   "metadata": {},
   "outputs": [
    {
     "name": "stdout",
     "output_type": "stream",
     "text": [
      "IL WV VA IN MO TN OH "
     ]
    }
   ],
   "source": [
    "for state in KY:\n",
    "    print(f'{state}', end=' ')"
   ]
  },
  {
   "cell_type": "code",
   "execution_count": 4,
   "id": "26d8447b-667b-4b9c-8248-3d5b7c25a72a",
   "metadata": {},
   "outputs": [
    {
     "data": {
      "text/plain": [
       "{'AL', 'AR', 'GA', 'IL', 'IN', 'KY', 'MO', 'MS', 'NC', 'OH', 'TN', 'VA', 'WV'}"
      ]
     },
     "execution_count": 4,
     "metadata": {},
     "output_type": "execute_result"
    }
   ],
   "source": [
    "KY | TN #this is called a union, same as KY.union(TN)"
   ]
  },
  {
   "cell_type": "code",
   "execution_count": null,
   "id": "56a6c0c9-fc62-4cda-9231-87c386707c8c",
   "metadata": {},
   "outputs": [],
   "source": [
    "#^ joins the two without repeats"
   ]
  },
  {
   "cell_type": "code",
   "execution_count": 5,
   "id": "de0ab914-ba65-41f9-bf1f-f86ec52b1251",
   "metadata": {},
   "outputs": [
    {
     "data": {
      "text/plain": [
       "{'AL', 'AR', 'GA', 'IL', 'IN', 'KY', 'MS', 'NC', 'OH', 'TN', 'WV'}"
      ]
     },
     "execution_count": 5,
     "metadata": {},
     "output_type": "execute_result"
    }
   ],
   "source": [
    "KY ^ TN #joins without printing what's in common"
   ]
  },
  {
   "cell_type": "code",
   "execution_count": 9,
   "id": "2f3145c9-4c2a-4916-ad06-cd318126c7cb",
   "metadata": {},
   "outputs": [
    {
     "data": {
      "text/plain": [
       "{'MO', 'VA'}"
      ]
     },
     "execution_count": 9,
     "metadata": {},
     "output_type": "execute_result"
    }
   ],
   "source": [
    "KY & TN #shows only the items that are in both sets"
   ]
  },
  {
   "cell_type": "code",
   "execution_count": 6,
   "id": "6599dfd4-435b-456c-aa45-6eb4867b97b6",
   "metadata": {},
   "outputs": [
    {
     "data": {
      "text/plain": [
       "{'IL', 'IN', 'OH', 'TN', 'WV'}"
      ]
     },
     "execution_count": 6,
     "metadata": {},
     "output_type": "execute_result"
    }
   ],
   "source": [
    "KY - TN #shows only the items that are unique to the first set"
   ]
  },
  {
   "cell_type": "code",
   "execution_count": null,
   "id": "ae458b86-32e9-4ee8-84d1-45f1aeca8f0d",
   "metadata": {},
   "outputs": [],
   "source": []
  }
 ],
 "metadata": {
  "kernelspec": {
   "display_name": "Python 3 (ipykernel)",
   "language": "python",
   "name": "python3"
  },
  "language_info": {
   "codemirror_mode": {
    "name": "ipython",
    "version": 3
   },
   "file_extension": ".py",
   "mimetype": "text/x-python",
   "name": "python",
   "nbconvert_exporter": "python",
   "pygments_lexer": "ipython3",
   "version": "3.11.7"
  }
 },
 "nbformat": 4,
 "nbformat_minor": 5
}
