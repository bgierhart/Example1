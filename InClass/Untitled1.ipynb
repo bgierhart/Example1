{
 "cells": [
  {
   "cell_type": "code",
   "execution_count": null,
   "id": "c3a6f22f-900e-4740-a38f-c311da2aebde",
   "metadata": {},
   "outputs": [],
   "source": [
    "#API: Application Programming Interface"
   ]
  }
 ],
 "metadata": {
  "kernelspec": {
   "display_name": "Python 3 (ipykernel)",
   "language": "python",
   "name": "python3"
  },
  "language_info": {
   "codemirror_mode": {
    "name": "ipython",
    "version": 3
   },
   "file_extension": ".py",
   "mimetype": "text/x-python",
   "name": "python",
   "nbconvert_exporter": "python",
   "pygments_lexer": "ipython3",
   "version": "3.11.7"
  }
 },
 "nbformat": 4,
 "nbformat_minor": 5
}
