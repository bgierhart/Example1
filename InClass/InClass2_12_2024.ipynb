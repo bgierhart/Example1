{
 "cells": [
  {
   "cell_type": "markdown",
   "id": "e6b217a1-6b8b-449d-b4db-769a60df3608",
   "metadata": {},
   "source": [
    "C2F = (float(temperature)*(9/5)+32)\n",
    "F2C = (float(temperature) - 32)*(9/5)"
   ]
  },
  {
   "cell_type": "code",
   "execution_count": 8,
   "id": "59d5f4dd-1793-462f-8cc5-101af2dddae7",
   "metadata": {},
   "outputs": [],
   "source": [
    "def C2F(temperature):\n",
    "    new_temp = (float(temperature)*(9/5)+32)\n",
    "    return new_temp"
   ]
  },
  {
   "cell_type": "code",
   "execution_count": 17,
   "id": "91cad146-aa09-4741-a23a-ff444e59b839",
   "metadata": {},
   "outputs": [
    {
     "name": "stdout",
     "output_type": "stream",
     "text": [
      "113.0\n",
      "89.6\n",
      "0.0\n"
     ]
    }
   ],
   "source": [
    "F = C2F(45)\n",
    "print(F)\n",
    "print(C2F(32))\n",
    "print(F2C(32))"
   ]
  },
  {
   "cell_type": "code",
   "execution_count": 18,
   "id": "5564341b-1f6b-4b0c-a832-d99388faa05a",
   "metadata": {},
   "outputs": [],
   "source": [
    "def F2C(temperature):\n",
    "    new_temp = (float(temperature) - 32)*(9/5)\n",
    "    return new_temp"
   ]
  },
  {
   "cell_type": "code",
   "execution_count": 19,
   "id": "5e573764-f789-4f93-a667-de6c9f99d393",
   "metadata": {},
   "outputs": [
    {
     "name": "stdout",
     "output_type": "stream",
     "text": [
      "0.0\n"
     ]
    }
   ],
   "source": [
    "C = F2C(32)\n",
    "print(C)"
   ]
  },
  {
   "cell_type": "code",
   "execution_count": 20,
   "id": "8802ec4b-bc40-4e03-82be-545a85f71295",
   "metadata": {},
   "outputs": [],
   "source": [
    "def convert_celsius(temperature):\n",
    "    C2F = (float(temperature)*(9/5)+32)\n",
    "    C2K = float(temperature) + 271.15\n",
    "    return C2F, C2K"
   ]
  },
  {
   "cell_type": "code",
   "execution_count": 21,
   "id": "d9b84f2b-e409-4150-829c-a4c8a202cbff",
   "metadata": {},
   "outputs": [
    {
     "name": "stdout",
     "output_type": "stream",
     "text": [
      "(89.6, 303.15)\n"
     ]
    }
   ],
   "source": [
    "print(convert_celsius(32))"
   ]
  },
  {
   "cell_type": "code",
   "execution_count": 22,
   "id": "d88e934c-0e49-4c5e-b317-893b0fd0ceee",
   "metadata": {},
   "outputs": [],
   "source": [
    "F, K = convert_celsius(32)"
   ]
  },
  {
   "cell_type": "code",
   "execution_count": 23,
   "id": "9b571713-fad9-4749-9f85-bd9fb0dcf9df",
   "metadata": {},
   "outputs": [
    {
     "name": "stdout",
     "output_type": "stream",
     "text": [
      "89.6\n",
      "303.15\n"
     ]
    }
   ],
   "source": [
    "print(F)\n",
    "print(K)"
   ]
  },
  {
   "cell_type": "code",
   "execution_count": 5,
   "id": "669d4dcf-d26c-4b11-a858-9604f4ecb291",
   "metadata": {},
   "outputs": [],
   "source": [
    "def comotellamas():\n",
    "    fname = input(\"What is your first name?\")\n",
    "    mname = input(\"What is your middle name?\")\n",
    "    lname = input(\"What is your last name?\")\n",
    "    return fname, mname, lname"
   ]
  },
  {
   "cell_type": "raw",
   "id": "27e1dad7-c738-47e5-bbf6-9c58d54c27f4",
   "metadata": {},
   "source": [
    "print(comotellamas())"
   ]
  },
  {
   "cell_type": "code",
   "execution_count": 2,
   "id": "84a1821d-a72d-474d-883d-555417b3e79f",
   "metadata": {},
   "outputs": [],
   "source": [
    "def name_processor():\n",
    "    fname = input(\"What is your first name?\")\n",
    "    mname = input(\"What is your middle name?\")\n",
    "    lname = input(\"What is your last name?\")\n",
    "    return fname, mname, lname"
   ]
  },
  {
   "cell_type": "code",
   "execution_count": 3,
   "id": "5577c3b5-aec1-4564-8d60-a42efff4e870",
   "metadata": {},
   "outputs": [
    {
     "name": "stdin",
     "output_type": "stream",
     "text": [
      "What is your first name? Worley\n",
      "What is your middle name? Ben\n",
      "What is your last name? Gierhart\n"
     ]
    },
    {
     "name": "stdout",
     "output_type": "stream",
     "text": [
      "('Worley', 'Ben', 'Gierhart')\n"
     ]
    }
   ],
   "source": [
    "print(name_processor())"
   ]
  },
  {
   "cell_type": "code",
   "execution_count": 46,
   "id": "dcb49281-1be9-4691-b0a1-a70bc6961e02",
   "metadata": {},
   "outputs": [],
   "source": [
    "def name_processor(fname, mname, lname):\n",
    "    print(f\"{fname}, {mname}, {lname}\")"
   ]
  },
  {
   "cell_type": "code",
   "execution_count": null,
   "id": "28874357-feea-4a40-9499-f22ab5f22898",
   "metadata": {},
   "outputs": [],
   "source": []
  }
 ],
 "metadata": {
  "kernelspec": {
   "display_name": "Python 3 (ipykernel)",
   "language": "python",
   "name": "python3"
  },
  "language_info": {
   "codemirror_mode": {
    "name": "ipython",
    "version": 3
   },
   "file_extension": ".py",
   "mimetype": "text/x-python",
   "name": "python",
   "nbconvert_exporter": "python",
   "pygments_lexer": "ipython3",
   "version": "3.11.7"
  }
 },
 "nbformat": 4,
 "nbformat_minor": 5
}
