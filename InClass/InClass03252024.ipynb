{
 "cells": [
  {
   "cell_type": "markdown",
   "id": "00ed9bc5-f80b-477c-9b2f-72610b79c310",
   "metadata": {},
   "source": [
    "### Image Array"
   ]
  },
  {
   "cell_type": "code",
   "execution_count": 8,
   "id": "30237a93-c3f2-4494-bad1-8b22eeb35ff8",
   "metadata": {},
   "outputs": [],
   "source": [
    "import numpy as np"
   ]
  },
  {
   "cell_type": "code",
   "execution_count": 9,
   "id": "68ac8002-d634-4579-bd39-cbfce8bf32b9",
   "metadata": {},
   "outputs": [],
   "source": [
    "from PIL import Image"
   ]
  },
  {
   "cell_type": "code",
   "execution_count": 32,
   "id": "b4cb41b6-e3c8-4245-ae2f-abd5e39e2286",
   "metadata": {},
   "outputs": [],
   "source": [
    "img = Image.open(\"/Users/bengierhart/Desktop/Computer Programming/coffee.jpg\")\n",
    "img.show()"
   ]
  },
  {
   "cell_type": "code",
   "execution_count": 33,
   "id": "f599990c-cd68-4629-a50a-ccc8c38446f7",
   "metadata": {},
   "outputs": [],
   "source": [
    "numpydata = np.asarray(img)"
   ]
  },
  {
   "cell_type": "code",
   "execution_count": 34,
   "id": "ea65336f-f28c-402c-9f66-ec510b6dffbb",
   "metadata": {},
   "outputs": [
    {
     "data": {
      "text/plain": [
       "(305, 474, 3)"
      ]
     },
     "execution_count": 34,
     "metadata": {},
     "output_type": "execute_result"
    }
   ],
   "source": [
    "numpydata.shape"
   ]
  },
  {
   "cell_type": "code",
   "execution_count": 35,
   "id": "79bb1bc5-c80a-469d-af80-367914f2a9f7",
   "metadata": {},
   "outputs": [
    {
     "data": {
      "text/plain": [
       "3"
      ]
     },
     "execution_count": 35,
     "metadata": {},
     "output_type": "execute_result"
    }
   ],
   "source": [
    "numpydata.ndim"
   ]
  },
  {
   "cell_type": "code",
   "execution_count": 36,
   "id": "69084875-d5fa-4639-a5a7-ccf684ae2bd5",
   "metadata": {},
   "outputs": [
    {
     "data": {
      "text/plain": [
       "array([[[254, 254, 254],\n",
       "        [254, 254, 254],\n",
       "        [254, 254, 254],\n",
       "        ...,\n",
       "        [254, 254, 254],\n",
       "        [254, 254, 254],\n",
       "        [254, 254, 254]],\n",
       "\n",
       "       [[254, 254, 254],\n",
       "        [254, 254, 254],\n",
       "        [254, 254, 254],\n",
       "        ...,\n",
       "        [254, 254, 254],\n",
       "        [254, 254, 254],\n",
       "        [254, 254, 254]],\n",
       "\n",
       "       [[254, 254, 254],\n",
       "        [254, 254, 254],\n",
       "        [254, 254, 254],\n",
       "        ...,\n",
       "        [254, 254, 254],\n",
       "        [254, 254, 254],\n",
       "        [254, 254, 254]],\n",
       "\n",
       "       ...,\n",
       "\n",
       "       [[254, 254, 254],\n",
       "        [254, 254, 254],\n",
       "        [254, 254, 254],\n",
       "        ...,\n",
       "        [254, 254, 254],\n",
       "        [254, 254, 254],\n",
       "        [254, 254, 254]],\n",
       "\n",
       "       [[254, 254, 254],\n",
       "        [254, 254, 254],\n",
       "        [254, 254, 254],\n",
       "        ...,\n",
       "        [254, 254, 254],\n",
       "        [254, 254, 254],\n",
       "        [254, 254, 254]],\n",
       "\n",
       "       [[255, 255, 255],\n",
       "        [255, 255, 255],\n",
       "        [255, 255, 255],\n",
       "        ...,\n",
       "        [255, 255, 255],\n",
       "        [255, 255, 255],\n",
       "        [255, 255, 255]]], dtype=uint8)"
      ]
     },
     "execution_count": 36,
     "metadata": {},
     "output_type": "execute_result"
    }
   ],
   "source": [
    "numpydata #shows array, not whole array but top and bottom, it's RGB code. Dtype is datatype"
   ]
  },
  {
   "cell_type": "code",
   "execution_count": 37,
   "id": "7131d808-207a-429e-8330-a18758ce3109",
   "metadata": {},
   "outputs": [
    {
     "data": {
      "text/plain": [
       "255"
      ]
     },
     "execution_count": 37,
     "metadata": {},
     "output_type": "execute_result"
    }
   ],
   "source": [
    "np.max(numpydata)"
   ]
  },
  {
   "cell_type": "code",
   "execution_count": 38,
   "id": "9161fe21-32f2-4a0e-818d-7561a2ee6c89",
   "metadata": {},
   "outputs": [],
   "source": [
    "brighter = numpydata + 200\n",
    "brighter = np.clip(brighter, 0, 255)"
   ]
  },
  {
   "cell_type": "code",
   "execution_count": 39,
   "id": "292a89fd-e6fc-46c6-ab29-ff60d092dd90",
   "metadata": {},
   "outputs": [],
   "source": [
    "bright = Image.fromarray(brighter)"
   ]
  },
  {
   "cell_type": "code",
   "execution_count": 41,
   "id": "ac7e7da9-cccd-4780-a68b-7f6febfb5463",
   "metadata": {},
   "outputs": [
    {
     "data": {
      "text/plain": [
       "<bound method Image.show of <PIL.Image.Image image mode=RGB size=474x305 at 0x1239EEE10>>"
      ]
     },
     "execution_count": 41,
     "metadata": {},
     "output_type": "execute_result"
    }
   ],
   "source": [
    "bright.show"
   ]
  },
  {
   "cell_type": "code",
   "execution_count": 44,
   "id": "271afc39-f5d6-4f3e-af49-c3ec12995414",
   "metadata": {},
   "outputs": [],
   "source": [
    "darker = numpydata - 200"
   ]
  },
  {
   "cell_type": "code",
   "execution_count": 42,
   "id": "afe21e2c-1f0d-4112-b302-b69a661ce57d",
   "metadata": {},
   "outputs": [],
   "source": [
    "grayscale_array = np.mean(numpydata, axis=2).astype('uint8')"
   ]
  },
  {
   "cell_type": "code",
   "execution_count": 43,
   "id": "eb3674df-cfc4-412d-a6a2-bab882712130",
   "metadata": {},
   "outputs": [
    {
     "data": {
      "text/plain": [
       "<bound method Image.show of <PIL.Image.Image image mode=L size=474x305 at 0x1076C9750>>"
      ]
     },
     "execution_count": 43,
     "metadata": {},
     "output_type": "execute_result"
    }
   ],
   "source": [
    "grayscale = Image.fromarray(grayscale_array)\n",
    "grayscale.show"
   ]
  },
  {
   "cell_type": "code",
   "execution_count": 47,
   "id": "1c250fbf-ef3f-4527-8615-6bcbf3cd213c",
   "metadata": {},
   "outputs": [],
   "source": [
    "rotate = np.rot90(numpydata,k=1)"
   ]
  },
  {
   "cell_type": "code",
   "execution_count": 48,
   "id": "86cc07fc-f6e9-4b7d-8d5e-a67f77482304",
   "metadata": {},
   "outputs": [],
   "source": [
    "rotated = Image.fromarray(rotate)"
   ]
  },
  {
   "cell_type": "code",
   "execution_count": 50,
   "id": "41af7203-5740-4741-a983-1b73037671f7",
   "metadata": {},
   "outputs": [
    {
     "data": {
      "text/plain": [
       "<bound method Image.show of <PIL.Image.Image image mode=RGB size=305x474 at 0x107B9B210>>"
      ]
     },
     "execution_count": 50,
     "metadata": {},
     "output_type": "execute_result"
    }
   ],
   "source": [
    "rotated.show"
   ]
  },
  {
   "cell_type": "code",
   "execution_count": 51,
   "id": "88f6595a-0f1f-4400-af99-3c51d7f160fc",
   "metadata": {},
   "outputs": [],
   "source": [
    "flip = np.flipud(numpydata)"
   ]
  },
  {
   "cell_type": "code",
   "execution_count": 52,
   "id": "af3cc2b3-3d79-4054-9425-7d59a31915f1",
   "metadata": {},
   "outputs": [],
   "source": [
    "flipped = Image.fromarray(flip)\n",
    "flipped.show()"
   ]
  },
  {
   "cell_type": "code",
   "execution_count": 53,
   "id": "4cdedf13-151a-4ba6-bf2d-f1e3a7f3ddd2",
   "metadata": {},
   "outputs": [],
   "source": [
    "lr = np.fliplr(numpydata)\n",
    "lr_flip = Image.fromarray(lr)\n",
    "lr_flip.show()"
   ]
  },
  {
   "cell_type": "code",
   "execution_count": 59,
   "id": "1c8f2e1a-c80e-401c-bf14-cb1dafce321a",
   "metadata": {},
   "outputs": [],
   "source": [
    "nums = np.random.randint(0,100, size=(10,10))"
   ]
  },
  {
   "cell_type": "code",
   "execution_count": 60,
   "id": "bd3ccab9-27d0-43de-80ee-a20ceec62c30",
   "metadata": {},
   "outputs": [
    {
     "data": {
      "text/plain": [
       "array([[79, 26, 21, 98, 48, 33, 20, 55, 56, 76],\n",
       "       [20,  9, 16, 79, 98, 93, 12, 36, 37, 20],\n",
       "       [25, 17, 67, 55, 13, 71,  8,  7, 54, 90],\n",
       "       [58, 13, 25, 22,  8, 34, 96, 38, 77, 54],\n",
       "       [66, 73, 29, 41, 57, 65, 43, 14,  1, 36],\n",
       "       [55, 58, 56, 42,  6, 49,  2, 68, 42, 75],\n",
       "       [ 7, 27, 15, 89,  4, 75, 75, 91, 46, 55],\n",
       "       [68, 69, 35, 18, 38, 88, 40, 75, 82, 92],\n",
       "       [43, 31, 71, 54,  4, 21, 94, 78, 16, 46],\n",
       "       [39, 47, 44, 76, 82, 88,  3, 39, 76, 68]])"
      ]
     },
     "execution_count": 60,
     "metadata": {},
     "output_type": "execute_result"
    }
   ],
   "source": [
    "nums"
   ]
  },
  {
   "cell_type": "code",
   "execution_count": 64,
   "id": "00b7326e-4b0b-40b7-8e13-f3fa9117ba70",
   "metadata": {},
   "outputs": [
    {
     "data": {
      "text/plain": [
       "array([[79, 26, 21],\n",
       "       [20,  9, 16],\n",
       "       [25, 17, 67],\n",
       "       [58, 13, 25],\n",
       "       [66, 73, 29],\n",
       "       [55, 58, 56],\n",
       "       [ 7, 27, 15],\n",
       "       [68, 69, 35],\n",
       "       [43, 31, 71],\n",
       "       [39, 47, 44]])"
      ]
     },
     "execution_count": 64,
     "metadata": {},
     "output_type": "execute_result"
    }
   ],
   "source": [
    "nums[:,:3] #slice after first three columns"
   ]
  },
  {
   "cell_type": "code",
   "execution_count": 65,
   "id": "403bfad4-a2ee-404a-af78-70d4ac3beecb",
   "metadata": {},
   "outputs": [],
   "source": [
    "X = nums[:,:9]"
   ]
  },
  {
   "cell_type": "code",
   "execution_count": 66,
   "id": "10c8b3c1-4d59-4a9a-9faa-bba775f44fd2",
   "metadata": {},
   "outputs": [],
   "source": [
    "Y = nums[:,9:10]"
   ]
  },
  {
   "cell_type": "code",
   "execution_count": 67,
   "id": "7b6a8918-6ec6-4bce-86b6-ffe7afb7a527",
   "metadata": {},
   "outputs": [
    {
     "data": {
      "text/plain": [
       "array([[76],\n",
       "       [20],\n",
       "       [90],\n",
       "       [54],\n",
       "       [36],\n",
       "       [75],\n",
       "       [55],\n",
       "       [92],\n",
       "       [46],\n",
       "       [68]])"
      ]
     },
     "execution_count": 67,
     "metadata": {},
     "output_type": "execute_result"
    }
   ],
   "source": [
    "Y"
   ]
  },
  {
   "cell_type": "code",
   "execution_count": null,
   "id": "87d72299-153c-47fd-b524-b97645cba317",
   "metadata": {},
   "outputs": [],
   "source": []
  }
 ],
 "metadata": {
  "kernelspec": {
   "display_name": "Python 3 (ipykernel)",
   "language": "python",
   "name": "python3"
  },
  "language_info": {
   "codemirror_mode": {
    "name": "ipython",
    "version": 3
   },
   "file_extension": ".py",
   "mimetype": "text/x-python",
   "name": "python",
   "nbconvert_exporter": "python",
   "pygments_lexer": "ipython3",
   "version": "3.11.7"
  }
 },
 "nbformat": 4,
 "nbformat_minor": 5
}
