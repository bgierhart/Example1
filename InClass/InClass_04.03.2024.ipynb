{
 "cells": [
  {
   "cell_type": "markdown",
   "id": "a1d856ec-e34e-4866-bcef-ebde827608dd",
   "metadata": {},
   "source": [
    "### Jokes File"
   ]
  },
  {
   "cell_type": "code",
   "execution_count": 15,
   "id": "c2b7847d-3bde-4429-a10d-095ea3b0ada8",
   "metadata": {},
   "outputs": [],
   "source": [
    "jokes = []\n",
    "\n",
    "with open(\"jokes.txt\", \"r\") as joke_list: #\"r\" opens file for reading\n",
    "    for joke in joke_list:\n",
    "        #print(joke)\n",
    "        # deliberately used # symbol to break up the joke and answer in the txt file\n",
    "        j = joke.split(\"#\")\n",
    "        #print(j[0])\n",
    "        j[1] = j[1].replace(\"\\n\", \"\")\n",
    "        jokes.append((j[0],j[1]))"
   ]
  },
  {
   "cell_type": "code",
   "execution_count": 17,
   "id": "2c913454-86b9-4733-85cb-198160d5e934",
   "metadata": {},
   "outputs": [],
   "source": [
    "import random\n",
    "import time"
   ]
  },
  {
   "cell_type": "code",
   "execution_count": 23,
   "id": "8a3e4ecc-2a14-4e1a-a7e1-e112e94dece1",
   "metadata": {},
   "outputs": [],
   "source": [
    "def tell_joke():\n",
    "    optionString = \"Would you like to hear a joke? Y/N\"\n",
    "    option = input(optionString)\n",
    "    while option==\"Y\":\n",
    "        r = random.randint(0,9)\n",
    "        print(jokes[r][0])\n",
    "        time.sleep(3)\n",
    "        print(jokes[r][1])\n",
    "        time.sleep(2)\n",
    "        option = input(optionString)"
   ]
  },
  {
   "cell_type": "code",
   "execution_count": 24,
   "id": "872245c0-b9c0-45c3-b302-cb76d89ea7bb",
   "metadata": {},
   "outputs": [
    {
     "name": "stdin",
     "output_type": "stream",
     "text": [
      "Would you like to hear a joke? Y/N Y\n"
     ]
    },
    {
     "name": "stdout",
     "output_type": "stream",
     "text": [
      "What did one wall say to the other wall?\n",
      "\"I'll meet you at the corner!\"\n"
     ]
    },
    {
     "name": "stdin",
     "output_type": "stream",
     "text": [
      "Would you like to hear a joke? Y/N N\n"
     ]
    }
   ],
   "source": [
    "tell_joke()"
   ]
  },
  {
   "cell_type": "code",
   "execution_count": 26,
   "id": "60779abd-3d5b-4f6f-9f7b-4960d17ee238",
   "metadata": {},
   "outputs": [
    {
     "name": "stdin",
     "output_type": "stream",
     "text": [
      "Tell me a joke Why did the chicken cross the road?\n",
      "Give me the answer To get to the other side.\n"
     ]
    }
   ],
   "source": [
    "joke = input(\"Tell me a joke\")\n",
    "answer = input(\"Give me the answer\")\n",
    "jokes.append((joke,answer))"
   ]
  },
  {
   "cell_type": "code",
   "execution_count": 27,
   "id": "ae77d98d-cb10-454e-bfab-c16c4bc8b45e",
   "metadata": {},
   "outputs": [
    {
     "data": {
      "text/plain": [
       "[('Why did the scarecrow win an award?',\n",
       "  'Because he was outstanding in his field!'),\n",
       " ('What do you call fake spaghetti?', 'An impasta!'),\n",
       " (\"Why couldn't the bicycle stand up by itself?\", 'Because it was two-tired!'),\n",
       " ('What did one ocean say to the other ocean?', 'Nothing, they just waved.'),\n",
       " (\"Why don't skeletons fight each other?\", \"They don't have the guts.\"),\n",
       " (\"What do you call cheese that isn't yours?\", 'Nacho cheese!'),\n",
       " ('Why did the math book look sad?', 'Because it had too many problems.'),\n",
       " (\"Why don't scientists trust atoms?\", 'Because they make up everything!'),\n",
       " ('What did one wall say to the other wall?',\n",
       "  '\"I\\'ll meet you at the corner!\"'),\n",
       " (\"Why don't skeletons go to scary movies?\",\n",
       "  \"They don't have the guts for it!\"),\n",
       " ('Why did the chicken cross the road?', 'To get to the other side.')]"
      ]
     },
     "execution_count": 27,
     "metadata": {},
     "output_type": "execute_result"
    }
   ],
   "source": [
    "jokes"
   ]
  },
  {
   "cell_type": "code",
   "execution_count": null,
   "id": "a4b71e14-d5ca-4c8d-8d83-aeb3a74a491d",
   "metadata": {},
   "outputs": [],
   "source": []
  }
 ],
 "metadata": {
  "kernelspec": {
   "display_name": "Python 3 (ipykernel)",
   "language": "python",
   "name": "python3"
  },
  "language_info": {
   "codemirror_mode": {
    "name": "ipython",
    "version": 3
   },
   "file_extension": ".py",
   "mimetype": "text/x-python",
   "name": "python",
   "nbconvert_exporter": "python",
   "pygments_lexer": "ipython3",
   "version": "3.11.7"
  }
 },
 "nbformat": 4,
 "nbformat_minor": 5
}
