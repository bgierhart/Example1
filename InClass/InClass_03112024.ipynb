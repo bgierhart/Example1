{
 "cells": [
  {
   "cell_type": "code",
   "execution_count": 1,
   "id": "20d1ea68-faf8-4475-a4b4-57b79d73596a",
   "metadata": {},
   "outputs": [],
   "source": [
    "#Zip function allows us to combine lists"
   ]
  },
  {
   "cell_type": "code",
   "execution_count": 2,
   "id": "b976f8f9-c6a1-4365-99b9-64e07c884904",
   "metadata": {},
   "outputs": [],
   "source": [
    "teams = ['Bellarmine', 'Liberty', 'EKU', 'North Florida', 'Lipscomb']\n",
    "wins = [6, 8, 3, 6, 7]\n",
    "losses = [7, 3, 5, 6, 7]"
   ]
  },
  {
   "cell_type": "code",
   "execution_count": 3,
   "id": "2453324d-f602-4898-a50c-4cd02c7960ec",
   "metadata": {},
   "outputs": [
    {
     "data": {
      "text/plain": [
       "[7, 3, 5, 6, 7]"
      ]
     },
     "execution_count": 3,
     "metadata": {},
     "output_type": "execute_result"
    }
   ],
   "source": [
    "losses"
   ]
  },
  {
   "cell_type": "code",
   "execution_count": 4,
   "id": "13c09e48-9822-4e10-90cf-1b9243cdce18",
   "metadata": {},
   "outputs": [],
   "source": [
    "agg = []\n",
    "for team, win, loss in zip(teams, wins, losses):\n",
    "    agg.append((team, win, loss))"
   ]
  },
  {
   "cell_type": "code",
   "execution_count": 5,
   "id": "149302e9-69e5-46dd-a474-9db965a8cd59",
   "metadata": {},
   "outputs": [
    {
     "data": {
      "text/plain": [
       "[('Bellarmine', 6, 7),\n",
       " ('Liberty', 8, 3),\n",
       " ('EKU', 3, 5),\n",
       " ('North Florida', 6, 6),\n",
       " ('Lipscomb', 7, 7)]"
      ]
     },
     "execution_count": 5,
     "metadata": {},
     "output_type": "execute_result"
    }
   ],
   "source": [
    "agg"
   ]
  },
  {
   "cell_type": "code",
   "execution_count": 7,
   "id": "c9c3389c-cd36-4dad-8977-ecaed0a99b7f",
   "metadata": {},
   "outputs": [
    {
     "name": "stdout",
     "output_type": "stream",
     "text": [
      "1\n",
      "8\n",
      "27\n",
      "64\n",
      "125\n",
      "216\n",
      "343\n",
      "512\n",
      "729\n",
      "1000\n",
      "1331\n",
      "1728\n",
      "2197\n",
      "2744\n",
      "3375\n",
      "4096\n",
      "4913\n",
      "5832\n",
      "6859\n",
      "8000\n",
      "9261\n",
      "10648\n",
      "12167\n",
      "13824\n",
      "15625\n",
      "17576\n",
      "19683\n",
      "21952\n",
      "24389\n",
      "27000\n",
      "29791\n",
      "32768\n",
      "35937\n",
      "39304\n",
      "42875\n",
      "46656\n",
      "50653\n",
      "54872\n",
      "59319\n",
      "64000\n",
      "68921\n",
      "74088\n",
      "79507\n",
      "85184\n",
      "91125\n",
      "97336\n",
      "103823\n",
      "110592\n",
      "117649\n",
      "125000\n",
      "132651\n",
      "140608\n",
      "148877\n",
      "157464\n",
      "166375\n",
      "175616\n",
      "185193\n",
      "195112\n",
      "205379\n",
      "216000\n",
      "226981\n",
      "238328\n",
      "250047\n",
      "262144\n",
      "274625\n",
      "287496\n",
      "300763\n",
      "314432\n",
      "328509\n",
      "343000\n",
      "357911\n",
      "373248\n",
      "389017\n",
      "405224\n",
      "421875\n",
      "438976\n",
      "456533\n",
      "474552\n",
      "493039\n",
      "512000\n",
      "531441\n",
      "551368\n",
      "571787\n",
      "592704\n",
      "614125\n",
      "636056\n",
      "658503\n",
      "681472\n",
      "704969\n",
      "729000\n",
      "753571\n",
      "778688\n",
      "804357\n",
      "830584\n",
      "857375\n",
      "884736\n",
      "912673\n",
      "941192\n",
      "970299\n"
     ]
    }
   ],
   "source": [
    "#Generator Function\n",
    "for value in (x**3 for x in range(1,100)):\n",
    "    print(value) #list comprehension"
   ]
  },
  {
   "cell_type": "code",
   "execution_count": 8,
   "id": "65147659-651b-452f-a4fe-255151178923",
   "metadata": {},
   "outputs": [],
   "source": [
    "def is_mod4(n):\n",
    "    return n%4==0"
   ]
  },
  {
   "cell_type": "code",
   "execution_count": 11,
   "id": "4ed50b9c-95a4-4918-894c-ed97e1b4c7c4",
   "metadata": {},
   "outputs": [
    {
     "name": "stdout",
     "output_type": "stream",
     "text": [
      "Is multiple of 4? False\n",
      "Is multiple of 4? False\n",
      "Is multiple of 4? False\n",
      "Is multiple of 4? False\n",
      "Is multiple of 4? False\n",
      "Is multiple of 4? False\n",
      "Is multiple of 4? False\n",
      "Is multiple of 4? False\n",
      "Is multiple of 4? False\n",
      "Is multiple of 4? False\n",
      "Is multiple of 4? False\n",
      "Is multiple of 4? False\n",
      "Is multiple of 4? False\n",
      "Is multiple of 4? False\n",
      "Is multiple of 4? False\n",
      "Is multiple of 4? False\n",
      "Is multiple of 4? False\n",
      "Is multiple of 4? False\n",
      "Is multiple of 4? False\n",
      "Is multiple of 4? False\n",
      "Is multiple of 4? False\n",
      "Is multiple of 4? False\n",
      "Is multiple of 4? False\n",
      "Is multiple of 4? False\n",
      "Is multiple of 4? False\n",
      "Is multiple of 4? False\n",
      "Is multiple of 4? False\n",
      "Is multiple of 4? False\n",
      "Is multiple of 4? False\n",
      "Is multiple of 4? False\n",
      "Is multiple of 4? False\n",
      "Is multiple of 4? False\n",
      "Is multiple of 4? False\n",
      "Is multiple of 4? False\n",
      "Is multiple of 4? False\n",
      "Is multiple of 4? False\n",
      "Is multiple of 4? False\n",
      "Is multiple of 4? False\n",
      "Is multiple of 4? False\n",
      "Is multiple of 4? False\n",
      "Is multiple of 4? False\n",
      "Is multiple of 4? False\n",
      "Is multiple of 4? False\n",
      "Is multiple of 4? False\n",
      "Is multiple of 4? False\n",
      "Is multiple of 4? False\n",
      "Is multiple of 4? False\n",
      "Is multiple of 4? False\n",
      "Is multiple of 4? False\n",
      "Is multiple of 4? False\n"
     ]
    }
   ],
   "source": [
    "for value in (x**3 for x in range(1,100,2)):\n",
    "    print(f\"Is multiple of 4? {is_mod4(value)}\")"
   ]
  },
  {
   "cell_type": "code",
   "execution_count": 8,
   "id": "0e60b0e3-92e4-4ae3-817a-112b2a7f2071",
   "metadata": {},
   "outputs": [],
   "source": [
    "import random"
   ]
  },
  {
   "cell_type": "code",
   "execution_count": 9,
   "id": "e81c145e-ce07-4393-85a3-937e919ca3de",
   "metadata": {},
   "outputs": [],
   "source": [
    "numbers = []\n",
    "for i in range(10):\n",
    "    numbers.append(random.randint(0,100))"
   ]
  },
  {
   "cell_type": "code",
   "execution_count": 3,
   "id": "a99f8bd9-408b-4c8e-84b3-38c024260767",
   "metadata": {},
   "outputs": [
    {
     "ename": "NameError",
     "evalue": "name 'random' is not defined",
     "output_type": "error",
     "traceback": [
      "\u001b[0;31m---------------------------------------------------------------------------\u001b[0m",
      "\u001b[0;31mNameError\u001b[0m                                 Traceback (most recent call last)",
      "Cell \u001b[0;32mIn[3], line 4\u001b[0m\n\u001b[1;32m      2\u001b[0m numbers \u001b[38;5;241m=\u001b[39m []\n\u001b[1;32m      3\u001b[0m \u001b[38;5;28;01mfor\u001b[39;00m i \u001b[38;5;129;01min\u001b[39;00m \u001b[38;5;28mrange\u001b[39m(\u001b[38;5;241m10\u001b[39m):\n\u001b[0;32m----> 4\u001b[0m     numbers\u001b[38;5;241m.\u001b[39mappend(random\u001b[38;5;241m.\u001b[39mrandint(\u001b[38;5;241m0\u001b[39m,\u001b[38;5;241m100\u001b[39m))\n\u001b[1;32m      5\u001b[0m \u001b[38;5;28;01mdef\u001b[39;00m \u001b[38;5;21mis_perfect_square\u001b[39m(n):\n\u001b[1;32m      6\u001b[0m     \u001b[38;5;28;01mif\u001b[39;00m n \u001b[38;5;241m<\u001b[39m \u001b[38;5;241m0\u001b[39m:\n",
      "\u001b[0;31mNameError\u001b[0m: name 'random' is not defined"
     ]
    }
   ],
   "source": [
    "import math\n",
    "numbers = []\n",
    "for i in range(10):\n",
    "    numbers.append(random.randint(0,100))\n",
    "def is_perfect_square(n):\n",
    "    if n < 0:\n",
    "        return False\n",
    "    root = math.sqrt(n)\n",
    "    return root.is_float()"
   ]
  },
  {
   "cell_type": "code",
   "execution_count": 2,
   "id": "e7a4ffe7-4484-4fc1-945f-180e3390e3dc",
   "metadata": {},
   "outputs": [
    {
     "ename": "NameError",
     "evalue": "name 'numbers' is not defined",
     "output_type": "error",
     "traceback": [
      "\u001b[0;31m---------------------------------------------------------------------------\u001b[0m",
      "\u001b[0;31mNameError\u001b[0m                                 Traceback (most recent call last)",
      "Cell \u001b[0;32mIn[2], line 1\u001b[0m\n\u001b[0;32m----> 1\u001b[0m \u001b[38;5;28mlist\u001b[39m(\u001b[38;5;28mfilter\u001b[39m(is_perfect_square,numbers))\n",
      "\u001b[0;31mNameError\u001b[0m: name 'numbers' is not defined"
     ]
    }
   ],
   "source": [
    "list(filter(is_perfect_square,numbers))"
   ]
  },
  {
   "cell_type": "code",
   "execution_count": null,
   "id": "e0e62302-e86a-420e-bf2b-c85a3fecaa6b",
   "metadata": {},
   "outputs": [],
   "source": []
  }
 ],
 "metadata": {
  "kernelspec": {
   "display_name": "Python 3 (ipykernel)",
   "language": "python",
   "name": "python3"
  },
  "language_info": {
   "codemirror_mode": {
    "name": "ipython",
    "version": 3
   },
   "file_extension": ".py",
   "mimetype": "text/x-python",
   "name": "python",
   "nbconvert_exporter": "python",
   "pygments_lexer": "ipython3",
   "version": "3.11.7"
  }
 },
 "nbformat": 4,
 "nbformat_minor": 5
}
