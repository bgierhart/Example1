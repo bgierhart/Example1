{
 "cells": [
  {
   "cell_type": "code",
   "execution_count": 38,
   "id": "4197bb72-271b-47bf-8c6a-04a6a78600ae",
   "metadata": {},
   "outputs": [
    {
     "name": "stdin",
     "output_type": "stream",
     "text": [
      "What temperature scale are you using? C\n",
      "Enter your temperature 30\n"
     ]
    }
   ],
   "source": [
    "scale = input(\"What temperature scale are you using?\") ## string data\n",
    "temperature = float(input(\"Enter your temperature\")) ## float data"
   ]
  },
  {
   "cell_type": "code",
   "execution_count": 2,
   "id": "1835eff1-0b5c-438e-acc5-4a3ded164ca7",
   "metadata": {},
   "outputs": [
    {
     "ename": "NameError",
     "evalue": "name 'scale' is not defined",
     "output_type": "error",
     "traceback": [
      "\u001b[0;31m---------------------------------------------------------------------------\u001b[0m",
      "\u001b[0;31mNameError\u001b[0m                                 Traceback (most recent call last)",
      "Cell \u001b[0;32mIn[2], line 5\u001b[0m\n\u001b[1;32m      1\u001b[0m \u001b[38;5;66;03m#C = (F - 32)/1.80\u001b[39;00m\n\u001b[1;32m      2\u001b[0m \u001b[38;5;66;03m#F = 1.80(C) + 32\u001b[39;00m\n\u001b[1;32m      3\u001b[0m \u001b[38;5;66;03m#K = 5/9(F - 32) + 273.15\u001b[39;00m\n\u001b[1;32m      4\u001b[0m output \u001b[38;5;241m=\u001b[39m \u001b[38;5;124m\"\u001b[39m\u001b[38;5;124m\"\u001b[39m\n\u001b[0;32m----> 5\u001b[0m \u001b[38;5;28;01mif\u001b[39;00m scale \u001b[38;5;241m==\u001b[39m \u001b[38;5;124m\"\u001b[39m\u001b[38;5;124mF\u001b[39m\u001b[38;5;124m\"\u001b[39m:\n\u001b[1;32m      6\u001b[0m     F2C \u001b[38;5;241m=\u001b[39m (temperature \u001b[38;5;241m-\u001b[39m \u001b[38;5;241m32\u001b[39m)\u001b[38;5;241m/\u001b[39m\u001b[38;5;241m1.80\u001b[39m \u001b[38;5;66;03m##single sided if\u001b[39;00m\n\u001b[1;32m      7\u001b[0m     F2K \u001b[38;5;241m=\u001b[39m (\u001b[38;5;241m5\u001b[39m\u001b[38;5;241m/\u001b[39m\u001b[38;5;241m9\u001b[39m) \u001b[38;5;241m*\u001b[39m (temperature \u001b[38;5;241m-\u001b[39m \u001b[38;5;241m32\u001b[39m) \u001b[38;5;241m+\u001b[39m \u001b[38;5;241m273.15\u001b[39m\n",
      "\u001b[0;31mNameError\u001b[0m: name 'scale' is not defined"
     ]
    }
   ],
   "source": [
    "#C = (F - 32)/1.80\n",
    "#F = 1.80(C) + 32\n",
    "#K = 5/9(F - 32) + 273.15\n",
    "output = \"\"\n",
    "if scale == \"F\":\n",
    "    F2C = (temperature - 32)/1.80 ##single sided if\n",
    "    F2K = (5/9) * (temperature - 32) + 273.15\n",
    "    output = f\"{F2C: .2f} C\\u00b0 and{F2K: .2f} K\\u00b0\"\n",
    "elif scale == \"C\":\n",
    "    C2F = 1.8 * temperature + 32\n",
    "    output = f\"{C2F: .2f} F\\u00b0\" ##nested if\n",
    "else:\n",
    "    K2F = ((temperature - 273.15) * (9/5)) + 32\n",
    "    K2C = temperature + 273.15 \n",
    "    output = f\"{K2F: .2f} K\\u00b0\"\n",
    "\n",
    "    "
   ]
  },
  {
   "cell_type": "code",
   "execution_count": 52,
   "id": "d169af44-a1a1-411f-bddb-7918df7e2c4d",
   "metadata": {},
   "outputs": [
    {
     "name": "stdout",
     "output_type": "stream",
     "text": [
      "You entered 30.00 C°, which is 86.00 F°\n"
     ]
    }
   ],
   "source": [
    "#print(output)\n",
    "print(f\"You entered{temperature: .2f} {scale}\\u00b0, which is{output}\")"
   ]
  },
  {
   "cell_type": "code",
   "execution_count": 4,
   "id": "28f01d5c-4234-4449-8150-404bae21d064",
   "metadata": {},
   "outputs": [
    {
     "name": "stdout",
     "output_type": "stream",
     "text": [
      "0\n",
      "5\n",
      "10\n",
      "15\n",
      "20\n",
      "25\n",
      "30\n",
      "35\n",
      "40\n",
      "45\n",
      "50\n",
      "55\n",
      "60\n",
      "65\n",
      "70\n",
      "75\n",
      "80\n",
      "85\n",
      "90\n",
      "95\n"
     ]
    }
   ],
   "source": [
    "counter = 0\n",
    "while counter<100:\n",
    "    print(counter)\n",
    "    counter = counter + 5 #increment\n",
    "\n",
    "#counter = 0\n",
    "#while counter<=100\n",
    "    #print(counter)\n",
    "    #***counter = counter + 5 #increment***\n",
    "    #counter*=5"
   ]
  },
  {
   "cell_type": "code",
   "execution_count": null,
   "id": "0fc4868f-7f12-4cd2-a3f9-062ec1a8b6fe",
   "metadata": {},
   "outputs": [],
   "source": []
  }
 ],
 "metadata": {
  "kernelspec": {
   "display_name": "Python 3 (ipykernel)",
   "language": "python",
   "name": "python3"
  },
  "language_info": {
   "codemirror_mode": {
    "name": "ipython",
    "version": 3
   },
   "file_extension": ".py",
   "mimetype": "text/x-python",
   "name": "python",
   "nbconvert_exporter": "python",
   "pygments_lexer": "ipython3",
   "version": "3.11.7"
  }
 },
 "nbformat": 4,
 "nbformat_minor": 5
}
