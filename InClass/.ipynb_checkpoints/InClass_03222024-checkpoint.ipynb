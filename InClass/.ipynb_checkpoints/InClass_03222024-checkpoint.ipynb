{
 "cells": [
  {
   "cell_type": "markdown",
   "id": "996e26dd-4368-45cb-8a7f-9e168ee48dd1",
   "metadata": {},
   "source": [
    "### Arrays"
   ]
  },
  {
   "cell_type": "code",
   "execution_count": 4,
   "id": "587780d8-e918-40f7-8336-4a09a9ddb8de",
   "metadata": {},
   "outputs": [],
   "source": [
    "import numpy as np"
   ]
  },
  {
   "cell_type": "code",
   "execution_count": 8,
   "id": "35055753-3b3b-4507-aaab-dab98f468eb9",
   "metadata": {},
   "outputs": [],
   "source": [
    "nums = np.array([10,10,45,32,54,67])"
   ]
  },
  {
   "cell_type": "code",
   "execution_count": 9,
   "id": "e0ce2f10-ffd1-4c59-aca4-8899b18826dd",
   "metadata": {},
   "outputs": [
    {
     "data": {
      "text/plain": [
       "dtype('int64')"
      ]
     },
     "execution_count": 9,
     "metadata": {},
     "output_type": "execute_result"
    }
   ],
   "source": [
    "nums.dtype"
   ]
  },
  {
   "cell_type": "code",
   "execution_count": 10,
   "id": "5e6f0870-0c79-417c-bd51-64dae04df75f",
   "metadata": {},
   "outputs": [
    {
     "data": {
      "text/plain": [
       "array([10, 10, 45, 32, 54, 67])"
      ]
     },
     "execution_count": 10,
     "metadata": {},
     "output_type": "execute_result"
    }
   ],
   "source": [
    "nums"
   ]
  },
  {
   "cell_type": "code",
   "execution_count": 20,
   "id": "8dfd6e87-f09d-41e1-af57-247f1b59bc36",
   "metadata": {},
   "outputs": [],
   "source": [
    "nums2 = np.random.randint(0,100, size=(10,5))"
   ]
  },
  {
   "cell_type": "code",
   "execution_count": 21,
   "id": "b5170f67-2c02-449e-9b1f-2093dcc394ad",
   "metadata": {},
   "outputs": [
    {
     "data": {
      "text/plain": [
       "array([[60, 17, 13, 83, 96],\n",
       "       [87, 47, 37, 82, 10],\n",
       "       [40, 49, 25, 98, 32],\n",
       "       [65, 31, 90, 33, 28],\n",
       "       [58, 31, 79, 45, 81],\n",
       "       [83, 37, 70, 67, 54],\n",
       "       [23, 72, 34, 65, 64],\n",
       "       [11, 20, 13, 13, 57],\n",
       "       [53, 36, 91, 35, 66],\n",
       "       [78, 63, 35, 80, 85]])"
      ]
     },
     "execution_count": 21,
     "metadata": {},
     "output_type": "execute_result"
    }
   ],
   "source": [
    "nums2"
   ]
  },
  {
   "cell_type": "code",
   "execution_count": 22,
   "id": "8b0811a8-c2cc-472b-8e82-c069df86264e",
   "metadata": {},
   "outputs": [],
   "source": [
    "num2d = np.array([\n",
    "    [10,10,45],\n",
    "    [5,7,3],\n",
    "    [65,76,96]\n",
    "])"
   ]
  },
  {
   "cell_type": "code",
   "execution_count": 23,
   "id": "ead881d0-57ad-4c96-a204-7cc9d603cd05",
   "metadata": {},
   "outputs": [
    {
     "data": {
      "text/plain": [
       "(3, 3)"
      ]
     },
     "execution_count": 23,
     "metadata": {},
     "output_type": "execute_result"
    }
   ],
   "source": [
    "num2d.shape #output is (number of rows and columns)"
   ]
  },
  {
   "cell_type": "code",
   "execution_count": 24,
   "id": "82ce8036-b762-47d3-9241-4ef6326cc494",
   "metadata": {},
   "outputs": [
    {
     "data": {
      "text/plain": [
       "9"
      ]
     },
     "execution_count": 24,
     "metadata": {},
     "output_type": "execute_result"
    }
   ],
   "source": [
    "num2d.size #number of elements in the array"
   ]
  },
  {
   "cell_type": "code",
   "execution_count": 25,
   "id": "159c64e2-3c66-4393-98a6-1176d19f6cd5",
   "metadata": {},
   "outputs": [
    {
     "data": {
      "text/plain": [
       "8"
      ]
     },
     "execution_count": 25,
     "metadata": {},
     "output_type": "execute_result"
    }
   ],
   "source": [
    "num2d.itemsize #number of bits in an element"
   ]
  },
  {
   "cell_type": "code",
   "execution_count": 27,
   "id": "b889a68f-167c-4d34-b6d7-2dd5dc997407",
   "metadata": {},
   "outputs": [
    {
     "data": {
      "text/plain": [
       "array([ 0,  2,  4,  6,  8, 10, 12, 14, 16, 18, 20, 22, 24, 26, 28, 30, 32,\n",
       "       34, 36, 38, 40, 42, 44, 46, 48, 50, 52, 54, 56, 58, 60, 62, 64, 66,\n",
       "       68, 70, 72, 74, 76, 78, 80, 82, 84, 86, 88, 90, 92, 94, 96, 98])"
      ]
     },
     "execution_count": 27,
     "metadata": {},
     "output_type": "execute_result"
    }
   ],
   "source": [
    "np.arange(0,100,2)"
   ]
  },
  {
   "cell_type": "code",
   "execution_count": 28,
   "id": "05484b28-4e1c-4fbf-8d92-c776f51287e8",
   "metadata": {},
   "outputs": [
    {
     "data": {
      "text/plain": [
       "array([0.  , 0.25, 0.5 , 0.75, 1.  ])"
      ]
     },
     "execution_count": 28,
     "metadata": {},
     "output_type": "execute_result"
    }
   ],
   "source": [
    "np.linspace(0.0,1.0, num=5)"
   ]
  },
  {
   "cell_type": "code",
   "execution_count": null,
   "id": "6f7b06bb-96f4-4ea1-bf73-9b673ac9195e",
   "metadata": {},
   "outputs": [],
   "source": []
  }
 ],
 "metadata": {
  "kernelspec": {
   "display_name": "Python 3 (ipykernel)",
   "language": "python",
   "name": "python3"
  },
  "language_info": {
   "codemirror_mode": {
    "name": "ipython",
    "version": 3
   },
   "file_extension": ".py",
   "mimetype": "text/x-python",
   "name": "python",
   "nbconvert_exporter": "python",
   "pygments_lexer": "ipython3",
   "version": "3.11.7"
  }
 },
 "nbformat": 4,
 "nbformat_minor": 5
}
