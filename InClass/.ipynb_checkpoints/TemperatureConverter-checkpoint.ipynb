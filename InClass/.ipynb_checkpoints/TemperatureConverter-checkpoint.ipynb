{
 "cells": [
  {
   "cell_type": "code",
   "execution_count": 38,
   "id": "4197bb72-271b-47bf-8c6a-04a6a78600ae",
   "metadata": {},
   "outputs": [
    {
     "name": "stdin",
     "output_type": "stream",
     "text": [
      "What temperature scale are you using? C\n",
      "Enter your temperature 30\n"
     ]
    }
   ],
   "source": [
    "scale = input(\"What temperature scale are you using?\") ## string data\n",
    "temperature = float(input(\"Enter your temperature\")) ## float data"
   ]
  },
  {
   "cell_type": "code",
   "execution_count": 51,
   "id": "1835eff1-0b5c-438e-acc5-4a3ded164ca7",
   "metadata": {},
   "outputs": [
    {
     "ename": "SyntaxError",
     "evalue": "incomplete input (2130537642.py, line 13)",
     "output_type": "error",
     "traceback": [
      "\u001b[0;36m  Cell \u001b[0;32mIn[51], line 13\u001b[0;36m\u001b[0m\n\u001b[0;31m    \u001b[0m\n\u001b[0m    ^\u001b[0m\n\u001b[0;31mSyntaxError\u001b[0m\u001b[0;31m:\u001b[0m incomplete input\n"
     ]
    }
   ],
   "source": [
    "#C = (F - 32)/1.80\n",
    "#F = 1.80(C) + 32\n",
    "#K = 5/9(F - 32) + 273.15\n",
    "output = \"\"\n",
    "if scale == \"F\":\n",
    "    F2C = (temperature - 32)/1.80 ##single sided if\n",
    "    F2K = (5/9) * (temperature - 32) + 273.15\n",
    "    output = f\"{F2C: .2f} C\\u00b0 and{F2K: .2f} K\\u00b0\"\n",
    "elif scale == \"C\":\n",
    "    C2F = 1.8 * temperature + 32\n",
    "    output = f\"{C2F: .2f} F\\u00b0\" ##nested if\n",
    "else:\n",
    "    K2F = (9/5)\n",
    "    "
   ]
  },
  {
   "cell_type": "code",
   "execution_count": 52,
   "id": "d169af44-a1a1-411f-bddb-7918df7e2c4d",
   "metadata": {},
   "outputs": [
    {
     "name": "stdout",
     "output_type": "stream",
     "text": [
      "You entered 30.00 C°, which is 86.00 F°\n"
     ]
    }
   ],
   "source": [
    "#print(output)\n",
    "print(f\"You entered{temperature: .2f} {scale}\\u00b0, which is{output}\")"
   ]
  },
  {
   "cell_type": "code",
   "execution_count": null,
   "id": "28f01d5c-4234-4449-8150-404bae21d064",
   "metadata": {},
   "outputs": [],
   "source": []
  }
 ],
 "metadata": {
  "kernelspec": {
   "display_name": "Python 3 (ipykernel)",
   "language": "python",
   "name": "python3"
  },
  "language_info": {
   "codemirror_mode": {
    "name": "ipython",
    "version": 3
   },
   "file_extension": ".py",
   "mimetype": "text/x-python",
   "name": "python",
   "nbconvert_exporter": "python",
   "pygments_lexer": "ipython3",
   "version": "3.11.7"
  }
 },
 "nbformat": 4,
 "nbformat_minor": 5
}
