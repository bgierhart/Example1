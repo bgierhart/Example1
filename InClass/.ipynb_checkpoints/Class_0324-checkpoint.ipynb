{
 "cells": [
  {
   "cell_type": "code",
   "execution_count": 1,
   "id": "c3a6f22f-900e-4740-a38f-c311da2aebde",
   "metadata": {},
   "outputs": [],
   "source": [
    "#API: Application Programming Interface"
   ]
  },
  {
   "cell_type": "code",
   "execution_count": 2,
   "id": "0d547aad-b01c-4e25-a5a6-2a5f8ec0d340",
   "metadata": {},
   "outputs": [],
   "source": [
    "import random"
   ]
  },
  {
   "cell_type": "code",
   "execution_count": 3,
   "id": "402b9bac-8ff7-4093-ba9d-bdc52cd76ab7",
   "metadata": {},
   "outputs": [],
   "source": [
    "numbers = []\n",
    "for i in range(20):\n",
    "    numbers.append(random.randint(0,100))"
   ]
  },
  {
   "cell_type": "code",
   "execution_count": 4,
   "id": "29368f83-1f8c-4c66-a671-ff3895cd093e",
   "metadata": {},
   "outputs": [],
   "source": [
    "names = [\"James\", \"Sally\", \"George\", \"Kristen\", \"Alex\", \"Melissa\"]"
   ]
  },
  {
   "cell_type": "code",
   "execution_count": 5,
   "id": "62468049-3eb7-4a0a-8983-c973c41ea862",
   "metadata": {},
   "outputs": [
    {
     "data": {
      "text/plain": [
       "'James'"
      ]
     },
     "execution_count": 5,
     "metadata": {},
     "output_type": "execute_result"
    }
   ],
   "source": [
    "names[0]"
   ]
  },
  {
   "cell_type": "code",
   "execution_count": 18,
   "id": "334d1fbf-42eb-4438-88d3-14c5d41e3ea5",
   "metadata": {},
   "outputs": [
    {
     "data": {
      "text/plain": [
       "[91, 56, 13, 98, 35, 134, 38, 24, 25, 40, 13, 86, 34, 57, 81, 36, 9, 3, 1, 61]"
      ]
     },
     "execution_count": 18,
     "metadata": {},
     "output_type": "execute_result"
    }
   ],
   "source": [
    "numbers"
   ]
  },
  {
   "cell_type": "code",
   "execution_count": 8,
   "id": "9ccbfe82-8e67-4128-8c1e-112bb44f7210",
   "metadata": {},
   "outputs": [
    {
     "data": {
      "text/plain": [
       "40"
      ]
     },
     "execution_count": 8,
     "metadata": {},
     "output_type": "execute_result"
    }
   ],
   "source": [
    "numbers[9]"
   ]
  },
  {
   "cell_type": "code",
   "execution_count": 9,
   "id": "e8e0bd62-c245-4b39-8288-f7e1db60eed1",
   "metadata": {},
   "outputs": [
    {
     "data": {
      "text/plain": [
       "6"
      ]
     },
     "execution_count": 9,
     "metadata": {},
     "output_type": "execute_result"
    }
   ],
   "source": [
    "len(names)"
   ]
  },
  {
   "cell_type": "code",
   "execution_count": 10,
   "id": "502ed054-78aa-4678-bef6-70b2a85bc28e",
   "metadata": {},
   "outputs": [],
   "source": [
    "state = \"Kentucky\""
   ]
  },
  {
   "cell_type": "code",
   "execution_count": 11,
   "id": "b4692f37-7435-4f72-a3b0-bae8cfcf9ca3",
   "metadata": {},
   "outputs": [
    {
     "data": {
      "text/plain": [
       "8"
      ]
     },
     "execution_count": 11,
     "metadata": {},
     "output_type": "execute_result"
    }
   ],
   "source": [
    "len(state)"
   ]
  },
  {
   "cell_type": "code",
   "execution_count": 14,
   "id": "2cf96f3a-9a13-4121-8b56-0680989db08d",
   "metadata": {},
   "outputs": [
    {
     "data": {
      "text/plain": [
       "61"
      ]
     },
     "execution_count": 14,
     "metadata": {},
     "output_type": "execute_result"
    }
   ],
   "source": [
    "numbers[-1] #negative indexing: lets you start from the end of the list"
   ]
  },
  {
   "cell_type": "code",
   "execution_count": 17,
   "id": "4c1c9a29-3502-46a5-baf8-ec80484fece3",
   "metadata": {},
   "outputs": [],
   "source": [
    "numbers[5] = 134 #lists are mutable (able to be changed)"
   ]
  },
  {
   "cell_type": "code",
   "execution_count": 19,
   "id": "db9f932e-9819-4855-bf0a-80c2de72e4b9",
   "metadata": {},
   "outputs": [],
   "source": [
    "names[0] = \"Clarence\""
   ]
  },
  {
   "cell_type": "code",
   "execution_count": 20,
   "id": "2aa4c7bf-cafe-484c-8a4b-4b63d0e52f89",
   "metadata": {},
   "outputs": [
    {
     "data": {
      "text/plain": [
       "['Clarence', 'Sally', 'George', 'Kristen', 'Alex', 'Melissa']"
      ]
     },
     "execution_count": 20,
     "metadata": {},
     "output_type": "execute_result"
    }
   ],
   "source": [
    "names"
   ]
  },
  {
   "cell_type": "code",
   "execution_count": 21,
   "id": "b37cfadd-707c-4528-a3ba-903716998520",
   "metadata": {},
   "outputs": [],
   "source": [
    "age = 10"
   ]
  },
  {
   "cell_type": "code",
   "execution_count": 23,
   "id": "999a8391-23ad-401f-9373-d8462eef6759",
   "metadata": {},
   "outputs": [],
   "source": [
    "numbers.append(110)"
   ]
  },
  {
   "cell_type": "code",
   "execution_count": 24,
   "id": "1b6112c4-6095-4d72-b7cd-b9a8edc77f15",
   "metadata": {},
   "outputs": [
    {
     "data": {
      "text/plain": [
       "[91,\n",
       " 56,\n",
       " 13,\n",
       " 98,\n",
       " 35,\n",
       " 134,\n",
       " 38,\n",
       " 24,\n",
       " 25,\n",
       " 40,\n",
       " 13,\n",
       " 86,\n",
       " 34,\n",
       " 57,\n",
       " 81,\n",
       " 36,\n",
       " 9,\n",
       " 3,\n",
       " 1,\n",
       " 61,\n",
       " 110]"
      ]
     },
     "execution_count": 24,
     "metadata": {},
     "output_type": "execute_result"
    }
   ],
   "source": [
    "numbers"
   ]
  },
  {
   "cell_type": "code",
   "execution_count": 26,
   "id": "71b57cd0-aee3-47e5-8d67-5b13598daaeb",
   "metadata": {},
   "outputs": [
    {
     "data": {
      "text/plain": [
       "[91,\n",
       " 56,\n",
       " 13,\n",
       " 98,\n",
       " 35,\n",
       " 134,\n",
       " 38,\n",
       " 24,\n",
       " 25,\n",
       " 40,\n",
       " 13,\n",
       " 86,\n",
       " 34,\n",
       " 57,\n",
       " 81,\n",
       " 36,\n",
       " 9,\n",
       " 3,\n",
       " 1,\n",
       " 61,\n",
       " 110,\n",
       " 'Clarence',\n",
       " 'Sally',\n",
       " 'George',\n",
       " 'Kristen',\n",
       " 'Alex',\n",
       " 'Melissa']"
      ]
     },
     "execution_count": 26,
     "metadata": {},
     "output_type": "execute_result"
    }
   ],
   "source": [
    "numbers+names"
   ]
  },
  {
   "cell_type": "code",
   "execution_count": 30,
   "id": "580f9385-495f-4385-9001-6663e4c36d75",
   "metadata": {},
   "outputs": [
    {
     "data": {
      "text/plain": [
       "[35, 134, 38, 24]"
      ]
     },
     "execution_count": 30,
     "metadata": {},
     "output_type": "execute_result"
    }
   ],
   "source": [
    "numbers[4:8]"
   ]
  },
  {
   "cell_type": "code",
   "execution_count": 32,
   "id": "4cc5c9bb-86a2-421e-bced-9b67136fee74",
   "metadata": {},
   "outputs": [
    {
     "data": {
      "text/plain": [
       "[3, 1, 61, 110]"
      ]
     },
     "execution_count": 32,
     "metadata": {},
     "output_type": "execute_result"
    }
   ],
   "source": [
    "numbers[-4:] #counting backwards"
   ]
  },
  {
   "cell_type": "code",
   "execution_count": null,
   "id": "5da56c8f-aa91-4ba1-ad8b-cd916cd707b3",
   "metadata": {},
   "outputs": [],
   "source": []
  }
 ],
 "metadata": {
  "kernelspec": {
   "display_name": "Python 3 (ipykernel)",
   "language": "python",
   "name": "python3"
  },
  "language_info": {
   "codemirror_mode": {
    "name": "ipython",
    "version": 3
   },
   "file_extension": ".py",
   "mimetype": "text/x-python",
   "name": "python",
   "nbconvert_exporter": "python",
   "pygments_lexer": "ipython3",
   "version": "3.11.7"
  }
 },
 "nbformat": 4,
 "nbformat_minor": 5
}
