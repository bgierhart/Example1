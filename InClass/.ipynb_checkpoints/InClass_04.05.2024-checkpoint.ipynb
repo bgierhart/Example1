{
 "cells": [
  {
   "cell_type": "markdown",
   "id": "a1d856ec-e34e-4866-bcef-ebde827608dd",
   "metadata": {},
   "source": [
    "### Jokes File Part 2"
   ]
  },
  {
   "cell_type": "code",
   "execution_count": 2,
   "id": "c2b7847d-3bde-4429-a10d-095ea3b0ada8",
   "metadata": {},
   "outputs": [],
   "source": [
    "def read_jokes(file):\n",
    "    jokes = []\n",
    "    with open(file, \"r\") as joke_list: #\"r\" opens file for reading\n",
    "        for joke in joke_list:\n",
    "            #print(joke)\n",
    "            # deliberately used # symbol to break up the joke and answer in the txt file\n",
    "            j = joke.split(\"#\")\n",
    "            #print(j[0])\n",
    "            j[1] = j[1].replace(\"\\n\", \"\")\n",
    "            jokes.append((j[0],j[1]))\n",
    "    return jokes"
   ]
  },
  {
   "cell_type": "code",
   "execution_count": 13,
   "id": "2c913454-86b9-4733-85cb-198160d5e934",
   "metadata": {},
   "outputs": [],
   "source": [
    "import random\n",
    "import time"
   ]
  },
  {
   "cell_type": "code",
   "execution_count": 8,
   "id": "8a3e4ecc-2a14-4e1a-a7e1-e112e94dece1",
   "metadata": {},
   "outputs": [],
   "source": [
    "def tell_joke(jokes):\n",
    "    optionString = \"Would you like to hear a joke? Y/N\"\n",
    "    option = input(optionString)\n",
    "    while option==\"Y\":\n",
    "        r = random.randint(0,9)\n",
    "        print(jokes[r][0])\n",
    "        time.sleep(3)\n",
    "        print(jokes[r][1])\n",
    "        time.sleep(2)\n",
    "        option = input(optionString)"
   ]
  },
  {
   "cell_type": "code",
   "execution_count": 10,
   "id": "872245c0-b9c0-45c3-b302-cb76d89ea7bb",
   "metadata": {},
   "outputs": [
    {
     "name": "stdin",
     "output_type": "stream",
     "text": [
      "Would you like to hear a joke? Y/N N\n"
     ]
    }
   ],
   "source": [
    "tell_joke(jokes)"
   ]
  },
  {
   "cell_type": "code",
   "execution_count": 7,
   "id": "60779abd-3d5b-4f6f-9f7b-4960d17ee238",
   "metadata": {},
   "outputs": [],
   "source": [
    "def add_joke(joke,answer):\n",
    "    line = joke + \"#\" + answer + \"\\n\"\n",
    "    jokefile = open(\"jokes.txt\",\"a\")\n",
    "    jokefile.write(line)\n",
    "    jokefile.close()"
   ]
  },
  {
   "cell_type": "code",
   "execution_count": 8,
   "id": "cf48538d-e699-4c50-a6a5-77d8678d6911",
   "metadata": {},
   "outputs": [
    {
     "name": "stdin",
     "output_type": "stream",
     "text": [
      "Tell me a joke joke 10\n",
      "Give me the answer answer 10\n"
     ]
    }
   ],
   "source": [
    "j = input(\"Tell me a joke\")\n",
    "a = input(\"Give me the answer\")\n",
    "add_joke(j,a)"
   ]
  },
  {
   "cell_type": "code",
   "execution_count": 10,
   "id": "3a489fbb-f07f-4233-b22d-a00d4a325632",
   "metadata": {},
   "outputs": [
    {
     "data": {
      "text/plain": [
       "[('Why did the scarecrow win an award?',\n",
       "  'Because he was outstanding in his field!'),\n",
       " ('What do you call fake spaghetti?', 'An impasta!'),\n",
       " (\"Why couldn't the bicycle stand up by itself?\", 'Because it was two-tired!'),\n",
       " ('What did one ocean say to the other ocean?', 'Nothing, they just waved.'),\n",
       " (\"Why don't skeletons fight each other?\", \"They don't have the guts.\"),\n",
       " (\"What do you call cheese that isn't yours?\", 'Nacho cheese!'),\n",
       " ('Why did the math book look sad?', 'Because it had too many problems.'),\n",
       " (\"Why don't scientists trust atoms?\", 'Because they make up everything!'),\n",
       " ('What did one wall say to the other wall?',\n",
       "  '\"I\\'ll meet you at the corner!\"'),\n",
       " (\"Why don't skeletons go to scary movies?\",\n",
       "  \"They don't have the guts for it!Why did the chicken cross the road?\"),\n",
       " ('joke 10', 'answer 10')]"
      ]
     },
     "execution_count": 10,
     "metadata": {},
     "output_type": "execute_result"
    }
   ],
   "source": [
    "jokes"
   ]
  },
  {
   "cell_type": "code",
   "execution_count": 14,
   "id": "473e8b59-b0f8-471f-b001-300d90639024",
   "metadata": {},
   "outputs": [
    {
     "data": {
      "text/plain": [
       "[('Why did the scarecrow win an award?',\n",
       "  'Because he was outstanding in his field!'),\n",
       " ('What do you call fake spaghetti?', 'An impasta!'),\n",
       " (\"Why couldn't the bicycle stand up by itself?\", 'Because it was two-tired!'),\n",
       " ('What did one ocean say to the other ocean?', 'Nothing, they just waved.'),\n",
       " (\"Why don't skeletons fight each other?\", \"They don't have the guts.\"),\n",
       " (\"What do you call cheese that isn't yours?\", 'Nacho cheese!'),\n",
       " ('Why did the math book look sad?', 'Because it had too many problems.'),\n",
       " (\"Why don't scientists trust atoms?\", 'Because they make up everything!'),\n",
       " ('What did one wall say to the other wall?',\n",
       "  '\"I\\'ll meet you at the corner!\"'),\n",
       " (\"Why don't skeletons go to scary movies?\",\n",
       "  \"They don't have the guts for it!Why did the chicken cross the road?\"),\n",
       " ('joke 10', 'answer 10')]"
      ]
     },
     "execution_count": 14,
     "metadata": {},
     "output_type": "execute_result"
    }
   ],
   "source": [
    "read_jokes(\"jokes.txt\")"
   ]
  },
  {
   "cell_type": "code",
   "execution_count": 14,
   "id": "924e4021-b66c-47d8-b40a-83ddde928584",
   "metadata": {},
   "outputs": [
    {
     "name": "stdin",
     "output_type": "stream",
     "text": [
      "Would you like to hear a joke (J), add a joke (A), or Quit (Q)? J\n",
      "Would you like to hear a joke? Y/N Y\n"
     ]
    },
    {
     "name": "stdout",
     "output_type": "stream",
     "text": [
      "Why did the math book look sad?\n",
      "Because it had too many problems.\n"
     ]
    },
    {
     "name": "stdin",
     "output_type": "stream",
     "text": [
      "Would you like to hear a joke? Y/N N\n",
      "Would you like to hear a joke (J), add a joke (A), or Quit (Q)? Q\n"
     ]
    }
   ],
   "source": [
    "optionString = \"Would you like to hear a joke (J), add a joke (A), or Quit (Q)?\"\n",
    "option = input(optionString)\n",
    "jokes = read_jokes(\"jokes.txt\")\n",
    "while option!=\"Q\":\n",
    "    if option==\"J\":\n",
    "        tell_joke(jokes)\n",
    "    else:\n",
    "        joke = input(\"Tell me a joke.\")\n",
    "        answer = input(\"Give me an answer.\")\n",
    "        add_joke(joke,answer)\n",
    "    option = input(optionString)"
   ]
  },
  {
   "cell_type": "code",
   "execution_count": null,
   "id": "00165caf-762b-4a7e-9cad-f864195f5e21",
   "metadata": {},
   "outputs": [],
   "source": []
  }
 ],
 "metadata": {
  "kernelspec": {
   "display_name": "Python 3 (ipykernel)",
   "language": "python",
   "name": "python3"
  },
  "language_info": {
   "codemirror_mode": {
    "name": "ipython",
    "version": 3
   },
   "file_extension": ".py",
   "mimetype": "text/x-python",
   "name": "python",
   "nbconvert_exporter": "python",
   "pygments_lexer": "ipython3",
   "version": "3.11.7"
  }
 },
 "nbformat": 4,
 "nbformat_minor": 5
}
