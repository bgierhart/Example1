{
 "cells": [
  {
   "cell_type": "code",
   "execution_count": 6,
   "id": "853b2d6d-0a4d-4421-b631-951e8ad2506f",
   "metadata": {},
   "outputs": [
    {
     "name": "stdin",
     "output_type": "stream",
     "text": [
      "Please enter a number. 42\n"
     ]
    },
    {
     "name": "stdout",
     "output_type": "stream",
     "text": [
      "You've entered an even number.\n"
     ]
    }
   ],
   "source": [
    "num = int(input(\"Please enter a number.\"))\n",
    "if num % 2 == 0: ###modulus operator\n",
    "    print(\"You've entered an even number.\")\n",
    "else:\n",
    "    print(\"You've entered an odd number.\")"
   ]
  },
  {
   "cell_type": "code",
   "execution_count": 2,
   "id": "8d10690f-2fdb-44f5-b0d8-369d6c37005a",
   "metadata": {},
   "outputs": [
    {
     "name": "stdin",
     "output_type": "stream",
     "text": [
      "Enter a word. Type 'Q' to quit. \n"
     ]
    },
    {
     "name": "stdout",
     "output_type": "stream",
     "text": [
      "There are 0 letters in the word .\n"
     ]
    },
    {
     "name": "stdin",
     "output_type": "stream",
     "text": [
      "Enter a word. Type 'Q' to quit. Q\n"
     ]
    },
    {
     "name": "stdout",
     "output_type": "stream",
     "text": [
      "Done!\n"
     ]
    }
   ],
   "source": [
    "word = input(\"Enter a word. Type 'Q' to quit.\") ###priming read\n",
    "while word != \"Q\":\n",
    "    counter = 0\n",
    "    for c in word:\n",
    "        counter += 1\n",
    "\n",
    "    print(f\"There are {counter} letters in the word {word}.\")\n",
    "    word = input(\"Enter a word. Type 'Q' to quit.\") ###necessary or the loop continues forever\n",
    "print(\"Done!\")"
   ]
  },
  {
   "cell_type": "code",
   "execution_count": 2,
   "id": "7ef6d38f-4c1f-470c-9342-d4f05a3fd536",
   "metadata": {},
   "outputs": [
    {
     "name": "stdin",
     "output_type": "stream",
     "text": [
      "Enter a 4 digit year, or 'Q' to quit. 400\n"
     ]
    },
    {
     "name": "stdout",
     "output_type": "stream",
     "text": [
      "400 is leap year\n"
     ]
    },
    {
     "name": "stdin",
     "output_type": "stream",
     "text": [
      "Enter a 4 digit year, or 'Q' to quit. Q\n"
     ]
    }
   ],
   "source": [
    "year = input(\"Enter a 4 digit year, or 'Q' to quit.\")\n",
    "while year!=\"Q\":\n",
    "    iyear = int(year)\n",
    "    output = f\"{year}\"\n",
    "\n",
    "    if iyear%400==0:\n",
    "        output+=f\" is \"\n",
    "    elif iyear%100==0:\n",
    "        output+=f\" is not \"\n",
    "    elif iyear%4==0:\n",
    "        output+=f\" is \"\n",
    "    else:\n",
    "        output+=f\" is not \"\n",
    "\n",
    "    output+=\"leap year\"\n",
    "    print(output)\n",
    "    year = input(\"Enter a 4 digit year, or 'Q' to quit.\")\n",
    "    "
   ]
  },
  {
   "cell_type": "code",
   "execution_count": null,
   "id": "6d1ec1df-d90d-4536-a87a-013a18887c78",
   "metadata": {},
   "outputs": [],
   "source": []
  }
 ],
 "metadata": {
  "kernelspec": {
   "display_name": "Python 3 (ipykernel)",
   "language": "python",
   "name": "python3"
  },
  "language_info": {
   "codemirror_mode": {
    "name": "ipython",
    "version": 3
   },
   "file_extension": ".py",
   "mimetype": "text/x-python",
   "name": "python",
   "nbconvert_exporter": "python",
   "pygments_lexer": "ipython3",
   "version": "3.11.7"
  }
 },
 "nbformat": 4,
 "nbformat_minor": 5
}
